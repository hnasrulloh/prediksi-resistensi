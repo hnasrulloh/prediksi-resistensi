{
 "cells": [
  {
   "cell_type": "markdown",
   "id": "b3ea31b0-38a0-4210-a2c4-d36cf16e3114",
   "metadata": {},
   "source": [
    "# GWAS Preparasi"
   ]
  },
  {
   "cell_type": "code",
   "execution_count": 1,
   "id": "f48c61d5-4b8c-4230-bbfc-9db5e1b993c4",
   "metadata": {
    "tags": []
   },
   "outputs": [
    {
     "data": {
      "text/plain": [
       "'/home/hnasrulloh/Works/pangenomes/notebooks'"
      ]
     },
     "execution_count": 1,
     "metadata": {},
     "output_type": "execute_result"
    }
   ],
   "source": [
    "pwd()"
   ]
  },
  {
   "cell_type": "code",
   "execution_count": 2,
   "id": "654b3cec-5773-4563-b7dc-57b4d9467d40",
   "metadata": {
    "tags": []
   },
   "outputs": [],
   "source": [
    "from os import path\n",
    "\n",
    "import pandas as pd\n"
   ]
  },
  {
   "cell_type": "code",
   "execution_count": 3,
   "id": "21db6222-8770-4835-b80b-69525ebd08e1",
   "metadata": {
    "tags": []
   },
   "outputs": [],
   "source": [
    "DATA_DIR = path.join(path.pardir, 'data')\n",
    "\n",
    "SAMPLES_DIR = path.join(DATA_DIR, 'samples')\n",
    "PAN_DIR = path.join(DATA_DIR, 'pangenomes')\n",
    "\n",
    "GFF_DIR = path.join(DATA_DIR, 'samples_combined')\n",
    "\n",
    "RIFAMPIN_GFF_DIR = path.join(DATA_DIR, 'gff_rifampin')\n",
    "ISONIAZID_GFF_DIR = path.join(DATA_DIR, 'gff_isoniazid')\n",
    "ETHAMBUTOL_GFF_DIR = path.join(DATA_DIR, 'gff_ethambutol')"
   ]
  },
  {
   "cell_type": "markdown",
   "id": "16844e0d-3bd0-4e09-b309-be773f70e944",
   "metadata": {},
   "source": [
    "## 1. Trait/Phenotype tsv files"
   ]
  },
  {
   "cell_type": "code",
   "execution_count": 4,
   "id": "8924f9eb-ee09-4486-a00e-68a0ae7546f9",
   "metadata": {
    "tags": []
   },
   "outputs": [],
   "source": [
    "AMR_EXCEL = path.join(DATA_DIR, 'amr_ready.xlsx')\n",
    "df = pd.read_excel(AMR_EXCEL, dtype=str)\n",
    "\n",
    "df = df.loc[:, ['genome_id', 'antibiotic', 'phenotype']]\n",
    "\n",
    "pheno = { 'R': 1, 'S': 0 }\n",
    "df['phenotype'] = df['phenotype'].map(pheno)\n",
    "\n",
    "# Match the samples name within gene_presence_absence.Rtab\n",
    "samples = df.genome_id.map(lambda name: name + '.PATRIC')\n",
    "df.insert(0, 'samples', samples)\n",
    "df = df.drop(['genome_id'], axis=1)\n",
    "\n",
    "for antibiotic in ['ethambutol', 'rifampin', 'isoniazid']:\n",
    "    df_ab = df[df.antibiotic == antibiotic]\n",
    "    df_ab = df_ab.drop(['antibiotic'], axis=1)\n",
    "    df_ab.columns = ['samples', 'resistance']\n",
    "\n",
    "    ANTIBIOTIC_TSV = path.join(DATA_DIR, f'traits_{antibiotic}.tsv')\n",
    "    df_ab.to_csv(ANTIBIOTIC_TSV, index=False, sep='\\t')"
   ]
  },
  {
   "cell_type": "markdown",
   "id": "5fe8e145-f8c8-4ee0-a3d6-4b328679f611",
   "metadata": {},
   "source": [
    "## 2. Pisahkan GFF file berdasarkan antibiotic"
   ]
  },
  {
   "cell_type": "code",
   "execution_count": 5,
   "id": "1599b35f-da1e-49c0-b676-adaaa8d8ba91",
   "metadata": {
    "tags": []
   },
   "outputs": [],
   "source": [
    "def used_gff_filenames(antibiotic):\n",
    "    GENE_PRESENCES = path.join(PAN_DIR, antibiotic, 'gene_presence_absence.csv')\n",
    "    gffs = pd.read_csv(GENE_PRESENCES, low_memory=False).columns[3:]\n",
    "    return list(map(lambda name: f'{name}.gff', gffs))"
   ]
  },
  {
   "cell_type": "code",
   "execution_count": 6,
   "id": "4c75efd8-a75d-4bc2-ace2-30990f6aa2e6",
   "metadata": {
    "tags": []
   },
   "outputs": [],
   "source": [
    "for antibiotic in ['rifampin', 'isoniazid', 'ethambutol']:\n",
    "    gffs = used_gff_filenames(antibiotic)\n",
    "    \n",
    "    with open(path.join(DATA_DIR, f'gff_{antibiotic}_panfeed1.txt'), 'w') as f:\n",
    "        f.write('\\n'.join(gffs))"
   ]
  },
  {
   "cell_type": "markdown",
   "id": "ff75f5d0-ddae-4477-8432-6f92d72f763d",
   "metadata": {},
   "source": [
    "Run `panfeed`! Lihat `cmd.md`"
   ]
  },
  {
   "cell_type": "code",
   "execution_count": null,
   "id": "20780c8c-c663-4c8f-bd93-4a26491feb6a",
   "metadata": {},
   "outputs": [],
   "source": []
  }
 ],
 "metadata": {
  "kernelspec": {
   "display_name": "Python 3 (ipykernel)",
   "language": "python",
   "name": "python3"
  },
  "language_info": {
   "codemirror_mode": {
    "name": "ipython",
    "version": 3
   },
   "file_extension": ".py",
   "mimetype": "text/x-python",
   "name": "python",
   "nbconvert_exporter": "python",
   "pygments_lexer": "ipython3",
   "version": "3.10.8"
  }
 },
 "nbformat": 4,
 "nbformat_minor": 5
}
