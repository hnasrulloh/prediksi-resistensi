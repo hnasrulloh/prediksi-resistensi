{
 "cells": [
  {
   "cell_type": "markdown",
   "id": "cd320f06-731f-44a5-8ae9-3d50faf94f83",
   "metadata": {},
   "source": [
    "# Modeling"
   ]
  },
  {
   "cell_type": "code",
   "execution_count": 1,
   "id": "a33dfc4c-c1e6-41f5-b043-0461845eb065",
   "metadata": {
    "tags": []
   },
   "outputs": [
    {
     "name": "stdout",
     "output_type": "stream",
     "text": [
      "Enabling notebook extension jupyter-js-widgets/extension...\n",
      "      - Validating: \u001b[32mOK\u001b[0m\n"
     ]
    }
   ],
   "source": [
    "from os import path\n",
    "from decimal import Decimal\n",
    "\n",
    "import pandas as pd\n",
    "import numpy as np\n",
    "import matplotlib.pyplot as plt\n",
    "from catboost import CatBoostClassifier, Pool, metrics, cv\n",
    "from catboost.utils import get_roc_curve\n",
    "from sklearn.model_selection import train_test_split\n",
    "from sklearn.metrics import roc_auc_score, roc_curve\n",
    "from sklearn.decomposition import KernelPCA\n",
    "\n",
    "plt.style.use('ggplot')\n",
    "!jupyter nbextension enable --py widgetsnbextension"
   ]
  },
  {
   "cell_type": "code",
   "execution_count": 2,
   "id": "060151e3-15e3-4a78-995f-79a48c835644",
   "metadata": {
    "tags": []
   },
   "outputs": [],
   "source": [
    "DATA_DIR = path.join(path.pardir, 'data')\n",
    "PAN_DIR = path.join(DATA_DIR, 'pangenomes')\n",
    "FIG_DIR = path.join(path.pardir, 'figs')\n",
    "MODEL_DIR = path.join(path.pardir, 'models')"
   ]
  },
  {
   "cell_type": "markdown",
   "id": "03fdfd66-e633-4f36-b2fa-f76874d38f7c",
   "metadata": {},
   "source": [
    "## Bonferroni Correction"
   ]
  },
  {
   "cell_type": "code",
   "execution_count": 3,
   "id": "00bb93d2-442a-495d-8e0f-012a375d26a9",
   "metadata": {
    "tags": []
   },
   "outputs": [
    {
     "data": {
      "text/plain": [
       "(Decimal('4.5346982905787288743231720075928616910110324766947087482549250125885009765625E-11'),\n",
       " Decimal('1.968993330300120086934525289387178624556096195874488330446183681488037109375E-11'),\n",
       " Decimal('2.957556187458729575991541200911429110309569523451500572264194488525390625E-11'))"
      ]
     },
     "execution_count": 3,
     "metadata": {},
     "output_type": "execute_result"
    }
   ],
   "source": [
    "def bonferroni(initial, n_patterns):\n",
    "    return Decimal(initial / n_patterns)\n",
    "\n",
    "\n",
    "# Jumlah kmers tiap antibiotik, lihat `count_kmers.txt`\n",
    "thres_ethambutol = bonferroni(0.05, 1102609188)\n",
    "thres_isoniazid = bonferroni(0.05, 2539368683)\n",
    "thres_rifampin = bonferroni(0.05, 1690584957)\n",
    "\n",
    "thres_ethambutol, thres_isoniazid, thres_rifampin"
   ]
  },
  {
   "cell_type": "markdown",
   "id": "79d6ff14-e4db-45d3-b54d-db0c8daafa8b",
   "metadata": {},
   "source": [
    "## 1. Preparasi"
   ]
  },
  {
   "cell_type": "code",
   "execution_count": 4,
   "id": "b8c7e671-0655-43ae-b7df-58634eb72243",
   "metadata": {
    "tags": []
   },
   "outputs": [],
   "source": [
    "def get_clusters(antibiotic):\n",
    "    GENE_CLUSTERS_PATH = path.join(PAN_DIR, antibiotic, 'pyseer', 'gene_clusters.txt')\n",
    "    with open(GENE_CLUSTERS_PATH, 'r') as f:\n",
    "        lines = f.read().splitlines() \n",
    "    return lines\n",
    "\n",
    "\n",
    "def get_traits(antibiotic):\n",
    "    TRAITS_PATH = path.join(DATA_DIR, f'traits_{antibiotic}.tsv')\n",
    "    traits = pd.read_csv(TRAITS_PATH, sep='\\t')\n",
    "    traits.columns = ['id', 'resistance']\n",
    "    return traits\n",
    "\n",
    "\n",
    "\n",
    "def get_cluster2hash(antibiotic):\n",
    "    KMERS_HASHES_PATH = path.join(PAN_DIR, antibiotic, 'panfeed1', 'kmers_to_hashes.tsv')\n",
    "    hashes = pd.read_csv(KMERS_HASHES_PATH, sep='\\t')\n",
    "    return hashes\n",
    "\n",
    "\n",
    "def get_pyseer(antibiotic):\n",
    "    PYSEER_PATH = path.join(PAN_DIR, antibiotic, 'pyseer', 'pyseer.tsv')\n",
    "    pyseer = pd.read_csv(PYSEER_PATH, sep='\\t')\n",
    "    return pyseer\n",
    "\n",
    "\n",
    "\n",
    "def get_filtered_kmers(antibiotic, threshold):\n",
    "    kmers = get_cluster2hash(antibiotic)\n",
    "    kmers = kmers[kmers.cluster.isin(get_clusters(antibiotic))]\n",
    "\n",
    "    pvals = get_pyseer(antibiotic)[['variant', 'lrt-pvalue']]\n",
    "    pvals.columns = ['variant', 'pvalue']\n",
    "    pvals = pvals[pvals.pvalue <= threshold]\n",
    "\n",
    "    kmers = get_cluster2hash(antibiotic)\n",
    "    kmers.columns = ['cluster', 'kmer', 'variant']\n",
    "    kmers = kmers.dropna(subset=['kmer'])\n",
    "    kmers = kmers[kmers.variant.isin(pvals.variant)]\n",
    "    return kmers\n",
    "\n",
    "\n",
    "def get_hashes_patterns(antibiotic):\n",
    "    PATTERN_PATH = path.join(PAN_DIR, antibiotic, 'panfeed1', 'hashes_to_patterns.tsv')\n",
    "    return pd.read_csv(PATTERN_PATH, sep='\\t')\n",
    "\n",
    "\n",
    "def get_kmers_matrix(antibiotic, threshold):\n",
    "    kmers = get_filtered_kmers(antibiotic, threshold)\n",
    "    patterns = get_hashes_patterns(antibiotic)\n",
    "\n",
    "    patterns = patterns[patterns.hashed_pattern.isin(kmers.variant)]\n",
    "\n",
    "    M = patterns.copy()[0:0]\n",
    "\n",
    "    for _, sample in patterns.iterrows():\n",
    "        for _, mer in kmers.iterrows():\n",
    "            if sample['hashed_pattern'] == mer['variant']:\n",
    "                sample_mer = sample.copy()\n",
    "                sample_mer['hashed_pattern'] = mer['kmer']\n",
    "                M = pd.concat([M, sample_mer.to_frame().T])\n",
    "\n",
    "    M = M.rename(columns={'hashed_pattern': 'kmer'})\n",
    "    M = M.set_index('kmer')\n",
    "    # Sedikit cek\n",
    "    assert all(patterns.iloc[0, 1:] == M.iloc[0, :])\n",
    "    \n",
    "    M = M.T.reset_index().rename(columns={'index': 'id'})\n",
    "    M.index.name = None\n",
    "    M.rename_axis(None, axis=1, inplace=True)\n",
    "    return M\n",
    "\n",
    "\n",
    "def get_data(antibiotic, threshold):\n",
    "    X = get_kmers_matrix(antibiotic, threshold)\n",
    "    y = get_traits(antibiotic)\n",
    "    return pd.merge(y, X, how='inner', on='id')"
   ]
  },
  {
   "cell_type": "code",
   "execution_count": 5,
   "id": "a29ec8d1-dbdc-47fe-8e22-3641eb064f5c",
   "metadata": {
    "tags": []
   },
   "outputs": [
    {
     "data": {
      "text/html": [
       "<div>\n",
       "<style scoped>\n",
       "    .dataframe tbody tr th:only-of-type {\n",
       "        vertical-align: middle;\n",
       "    }\n",
       "\n",
       "    .dataframe tbody tr th {\n",
       "        vertical-align: top;\n",
       "    }\n",
       "\n",
       "    .dataframe thead th {\n",
       "        text-align: right;\n",
       "    }\n",
       "</style>\n",
       "<table border=\"1\" class=\"dataframe\">\n",
       "  <thead>\n",
       "    <tr style=\"text-align: right;\">\n",
       "      <th></th>\n",
       "      <th>cluster</th>\n",
       "      <th>kmer</th>\n",
       "      <th>variant</th>\n",
       "    </tr>\n",
       "  </thead>\n",
       "  <tbody>\n",
       "    <tr>\n",
       "      <th>102230</th>\n",
       "      <td>embB</td>\n",
       "      <td>AATTCGTCGGACGACGGCTACATCCTGGGCA</td>\n",
       "      <td>RBRdoxIbsCo9k//3cVm+wA==</td>\n",
       "    </tr>\n",
       "    <tr>\n",
       "      <th>102231</th>\n",
       "      <td>embB</td>\n",
       "      <td>ATGCCCAGGATGTAGCCGTCGTCCGACGAAT</td>\n",
       "      <td>RBRdoxIbsCo9k//3cVm+wA==</td>\n",
       "    </tr>\n",
       "    <tr>\n",
       "      <th>102232</th>\n",
       "      <td>embB</td>\n",
       "      <td>CATGCCCAGGATGTAGCCGTCGTCCGACGAA</td>\n",
       "      <td>tYbHr5aU1LE2/IQoNJNLUw==</td>\n",
       "    </tr>\n",
       "    <tr>\n",
       "      <th>102233</th>\n",
       "      <td>embB</td>\n",
       "      <td>CCATGCCCAGGATGTAGCCGTCGTCCGACGA</td>\n",
       "      <td>tYbHr5aU1LE2/IQoNJNLUw==</td>\n",
       "    </tr>\n",
       "    <tr>\n",
       "      <th>102234</th>\n",
       "      <td>embB</td>\n",
       "      <td>CGTCGGACGACGGCTACATCCTGGGCATGGC</td>\n",
       "      <td>tYbHr5aU1LE2/IQoNJNLUw==</td>\n",
       "    </tr>\n",
       "    <tr>\n",
       "      <th>...</th>\n",
       "      <td>...</td>\n",
       "      <td>...</td>\n",
       "      <td>...</td>\n",
       "    </tr>\n",
       "    <tr>\n",
       "      <th>1320799</th>\n",
       "      <td>group_3440</td>\n",
       "      <td>CGAGGCTGCCTACTACGCTCAACGCCAGAGA</td>\n",
       "      <td>pkgq68ekdhSm+0Uvu4wMDA==</td>\n",
       "    </tr>\n",
       "    <tr>\n",
       "      <th>1320800</th>\n",
       "      <td>group_3440</td>\n",
       "      <td>CTCTGGCGTTGAGCGTAGTAGGCAGCCTCGA</td>\n",
       "      <td>pkgq68ekdhSm+0Uvu4wMDA==</td>\n",
       "    </tr>\n",
       "    <tr>\n",
       "      <th>1320801</th>\n",
       "      <td>group_3440</td>\n",
       "      <td>CTCGAGGCTGCCTACTACGCTCAACGCCAGA</td>\n",
       "      <td>pkgq68ekdhSm+0Uvu4wMDA==</td>\n",
       "    </tr>\n",
       "    <tr>\n",
       "      <th>1320802</th>\n",
       "      <td>group_3440</td>\n",
       "      <td>ACTCGAGGCTGCCTACTACGCTCAACGCCAG</td>\n",
       "      <td>pkgq68ekdhSm+0Uvu4wMDA==</td>\n",
       "    </tr>\n",
       "    <tr>\n",
       "      <th>1320803</th>\n",
       "      <td>group_3440</td>\n",
       "      <td>AACTCGAGGCTGCCTACTACGCTCAACGCCA</td>\n",
       "      <td>pkgq68ekdhSm+0Uvu4wMDA==</td>\n",
       "    </tr>\n",
       "  </tbody>\n",
       "</table>\n",
       "<p>2817 rows × 3 columns</p>\n",
       "</div>"
      ],
      "text/plain": [
       "            cluster                             kmer                   variant\n",
       "102230         embB  AATTCGTCGGACGACGGCTACATCCTGGGCA  RBRdoxIbsCo9k//3cVm+wA==\n",
       "102231         embB  ATGCCCAGGATGTAGCCGTCGTCCGACGAAT  RBRdoxIbsCo9k//3cVm+wA==\n",
       "102232         embB  CATGCCCAGGATGTAGCCGTCGTCCGACGAA  tYbHr5aU1LE2/IQoNJNLUw==\n",
       "102233         embB  CCATGCCCAGGATGTAGCCGTCGTCCGACGA  tYbHr5aU1LE2/IQoNJNLUw==\n",
       "102234         embB  CGTCGGACGACGGCTACATCCTGGGCATGGC  tYbHr5aU1LE2/IQoNJNLUw==\n",
       "...             ...                              ...                       ...\n",
       "1320799  group_3440  CGAGGCTGCCTACTACGCTCAACGCCAGAGA  pkgq68ekdhSm+0Uvu4wMDA==\n",
       "1320800  group_3440  CTCTGGCGTTGAGCGTAGTAGGCAGCCTCGA  pkgq68ekdhSm+0Uvu4wMDA==\n",
       "1320801  group_3440  CTCGAGGCTGCCTACTACGCTCAACGCCAGA  pkgq68ekdhSm+0Uvu4wMDA==\n",
       "1320802  group_3440  ACTCGAGGCTGCCTACTACGCTCAACGCCAG  pkgq68ekdhSm+0Uvu4wMDA==\n",
       "1320803  group_3440  AACTCGAGGCTGCCTACTACGCTCAACGCCA  pkgq68ekdhSm+0Uvu4wMDA==\n",
       "\n",
       "[2817 rows x 3 columns]"
      ]
     },
     "execution_count": 5,
     "metadata": {},
     "output_type": "execute_result"
    }
   ],
   "source": [
    "antibiotic = 'ethambutol'\n",
    "threshold = thres_ethambutol\n",
    "\n",
    "get_filtered_kmers(antibiotic, threshold)"
   ]
  },
  {
   "cell_type": "code",
   "execution_count": 6,
   "id": "02d01499-77ab-4e1e-aeed-1af27241672a",
   "metadata": {
    "tags": []
   },
   "outputs": [
    {
     "data": {
      "text/html": [
       "<div>\n",
       "<style scoped>\n",
       "    .dataframe tbody tr th:only-of-type {\n",
       "        vertical-align: middle;\n",
       "    }\n",
       "\n",
       "    .dataframe tbody tr th {\n",
       "        vertical-align: top;\n",
       "    }\n",
       "\n",
       "    .dataframe thead th {\n",
       "        text-align: right;\n",
       "    }\n",
       "</style>\n",
       "<table border=\"1\" class=\"dataframe\">\n",
       "  <thead>\n",
       "    <tr style=\"text-align: right;\">\n",
       "      <th></th>\n",
       "      <th>id</th>\n",
       "      <th>resistance</th>\n",
       "      <th>AATTCGTCGGACGACGGCTACATCCTGGGCA</th>\n",
       "      <th>ATGCCCAGGATGTAGCCGTCGTCCGACGAAT</th>\n",
       "      <th>CATGCCCAGGATGTAGCCGTCGTCCGACGAA</th>\n",
       "      <th>CCATGCCCAGGATGTAGCCGTCGTCCGACGA</th>\n",
       "      <th>CGTCGGACGACGGCTACATCCTGGGCATGGC</th>\n",
       "      <th>GGCCATGCCCAGGATGTAGCCGTCGTCCGAC</th>\n",
       "      <th>GGGCCATGCCCAGGATGTAGCCGTCGTCCGA</th>\n",
       "      <th>CGGACGACGGCTACATCCTGGGCATGGCCCG</th>\n",
       "      <th>...</th>\n",
       "      <th>CTGCCTACTACGCTCAACGCCAGAGACCAGC</th>\n",
       "      <th>CTGGTCTCTGGCGTTGAGCGTAGTAGGCAGC</th>\n",
       "      <th>GGCTGCCTACTACGCTCAACGCCAGAGACCA</th>\n",
       "      <th>AGGCTGCCTACTACGCTCAACGCCAGAGACC</th>\n",
       "      <th>GAGGCTGCCTACTACGCTCAACGCCAGAGAC</th>\n",
       "      <th>CGAGGCTGCCTACTACGCTCAACGCCAGAGA</th>\n",
       "      <th>CTCTGGCGTTGAGCGTAGTAGGCAGCCTCGA</th>\n",
       "      <th>CTCGAGGCTGCCTACTACGCTCAACGCCAGA</th>\n",
       "      <th>ACTCGAGGCTGCCTACTACGCTCAACGCCAG</th>\n",
       "      <th>AACTCGAGGCTGCCTACTACGCTCAACGCCA</th>\n",
       "    </tr>\n",
       "  </thead>\n",
       "  <tbody>\n",
       "    <tr>\n",
       "      <th>0</th>\n",
       "      <td>1438835.3.PATRIC</td>\n",
       "      <td>0</td>\n",
       "      <td>1</td>\n",
       "      <td>1</td>\n",
       "      <td>1</td>\n",
       "      <td>1</td>\n",
       "      <td>1</td>\n",
       "      <td>1</td>\n",
       "      <td>1</td>\n",
       "      <td>1</td>\n",
       "      <td>...</td>\n",
       "      <td>0</td>\n",
       "      <td>0</td>\n",
       "      <td>0</td>\n",
       "      <td>0</td>\n",
       "      <td>0</td>\n",
       "      <td>0</td>\n",
       "      <td>0</td>\n",
       "      <td>0</td>\n",
       "      <td>0</td>\n",
       "      <td>0</td>\n",
       "    </tr>\n",
       "    <tr>\n",
       "      <th>1</th>\n",
       "      <td>1438837.3.PATRIC</td>\n",
       "      <td>0</td>\n",
       "      <td>1</td>\n",
       "      <td>1</td>\n",
       "      <td>1</td>\n",
       "      <td>1</td>\n",
       "      <td>1</td>\n",
       "      <td>1</td>\n",
       "      <td>1</td>\n",
       "      <td>1</td>\n",
       "      <td>...</td>\n",
       "      <td>0</td>\n",
       "      <td>0</td>\n",
       "      <td>0</td>\n",
       "      <td>0</td>\n",
       "      <td>0</td>\n",
       "      <td>0</td>\n",
       "      <td>0</td>\n",
       "      <td>0</td>\n",
       "      <td>0</td>\n",
       "      <td>0</td>\n",
       "    </tr>\n",
       "    <tr>\n",
       "      <th>2</th>\n",
       "      <td>1438842.3.PATRIC</td>\n",
       "      <td>0</td>\n",
       "      <td>0</td>\n",
       "      <td>0</td>\n",
       "      <td>0</td>\n",
       "      <td>0</td>\n",
       "      <td>0</td>\n",
       "      <td>0</td>\n",
       "      <td>0</td>\n",
       "      <td>0</td>\n",
       "      <td>...</td>\n",
       "      <td>0</td>\n",
       "      <td>0</td>\n",
       "      <td>0</td>\n",
       "      <td>0</td>\n",
       "      <td>0</td>\n",
       "      <td>0</td>\n",
       "      <td>0</td>\n",
       "      <td>0</td>\n",
       "      <td>0</td>\n",
       "      <td>0</td>\n",
       "    </tr>\n",
       "    <tr>\n",
       "      <th>3</th>\n",
       "      <td>83331.31.PATRIC</td>\n",
       "      <td>0</td>\n",
       "      <td>1</td>\n",
       "      <td>1</td>\n",
       "      <td>1</td>\n",
       "      <td>1</td>\n",
       "      <td>1</td>\n",
       "      <td>1</td>\n",
       "      <td>1</td>\n",
       "      <td>1</td>\n",
       "      <td>...</td>\n",
       "      <td>0</td>\n",
       "      <td>0</td>\n",
       "      <td>0</td>\n",
       "      <td>0</td>\n",
       "      <td>0</td>\n",
       "      <td>0</td>\n",
       "      <td>0</td>\n",
       "      <td>0</td>\n",
       "      <td>0</td>\n",
       "      <td>0</td>\n",
       "    </tr>\n",
       "    <tr>\n",
       "      <th>4</th>\n",
       "      <td>1448833.3.PATRIC</td>\n",
       "      <td>1</td>\n",
       "      <td>0</td>\n",
       "      <td>0</td>\n",
       "      <td>0</td>\n",
       "      <td>0</td>\n",
       "      <td>0</td>\n",
       "      <td>0</td>\n",
       "      <td>0</td>\n",
       "      <td>0</td>\n",
       "      <td>...</td>\n",
       "      <td>0</td>\n",
       "      <td>0</td>\n",
       "      <td>0</td>\n",
       "      <td>0</td>\n",
       "      <td>0</td>\n",
       "      <td>0</td>\n",
       "      <td>0</td>\n",
       "      <td>0</td>\n",
       "      <td>0</td>\n",
       "      <td>0</td>\n",
       "    </tr>\n",
       "    <tr>\n",
       "      <th>...</th>\n",
       "      <td>...</td>\n",
       "      <td>...</td>\n",
       "      <td>...</td>\n",
       "      <td>...</td>\n",
       "      <td>...</td>\n",
       "      <td>...</td>\n",
       "      <td>...</td>\n",
       "      <td>...</td>\n",
       "      <td>...</td>\n",
       "      <td>...</td>\n",
       "      <td>...</td>\n",
       "      <td>...</td>\n",
       "      <td>...</td>\n",
       "      <td>...</td>\n",
       "      <td>...</td>\n",
       "      <td>...</td>\n",
       "      <td>...</td>\n",
       "      <td>...</td>\n",
       "      <td>...</td>\n",
       "      <td>...</td>\n",
       "      <td>...</td>\n",
       "    </tr>\n",
       "    <tr>\n",
       "      <th>244</th>\n",
       "      <td>1438867.3.PATRIC</td>\n",
       "      <td>0</td>\n",
       "      <td>1</td>\n",
       "      <td>1</td>\n",
       "      <td>1</td>\n",
       "      <td>1</td>\n",
       "      <td>1</td>\n",
       "      <td>1</td>\n",
       "      <td>1</td>\n",
       "      <td>1</td>\n",
       "      <td>...</td>\n",
       "      <td>1</td>\n",
       "      <td>1</td>\n",
       "      <td>1</td>\n",
       "      <td>1</td>\n",
       "      <td>1</td>\n",
       "      <td>1</td>\n",
       "      <td>1</td>\n",
       "      <td>1</td>\n",
       "      <td>1</td>\n",
       "      <td>1</td>\n",
       "    </tr>\n",
       "    <tr>\n",
       "      <th>245</th>\n",
       "      <td>652616.4.PATRIC</td>\n",
       "      <td>0</td>\n",
       "      <td>1</td>\n",
       "      <td>1</td>\n",
       "      <td>1</td>\n",
       "      <td>1</td>\n",
       "      <td>1</td>\n",
       "      <td>1</td>\n",
       "      <td>1</td>\n",
       "      <td>1</td>\n",
       "      <td>...</td>\n",
       "      <td>0</td>\n",
       "      <td>0</td>\n",
       "      <td>0</td>\n",
       "      <td>0</td>\n",
       "      <td>0</td>\n",
       "      <td>0</td>\n",
       "      <td>0</td>\n",
       "      <td>0</td>\n",
       "      <td>0</td>\n",
       "      <td>0</td>\n",
       "    </tr>\n",
       "    <tr>\n",
       "      <th>246</th>\n",
       "      <td>1773.199.PATRIC</td>\n",
       "      <td>0</td>\n",
       "      <td>1</td>\n",
       "      <td>1</td>\n",
       "      <td>1</td>\n",
       "      <td>1</td>\n",
       "      <td>1</td>\n",
       "      <td>1</td>\n",
       "      <td>1</td>\n",
       "      <td>1</td>\n",
       "      <td>...</td>\n",
       "      <td>0</td>\n",
       "      <td>0</td>\n",
       "      <td>0</td>\n",
       "      <td>0</td>\n",
       "      <td>0</td>\n",
       "      <td>0</td>\n",
       "      <td>0</td>\n",
       "      <td>0</td>\n",
       "      <td>0</td>\n",
       "      <td>0</td>\n",
       "    </tr>\n",
       "    <tr>\n",
       "      <th>247</th>\n",
       "      <td>1773.200.PATRIC</td>\n",
       "      <td>0</td>\n",
       "      <td>1</td>\n",
       "      <td>1</td>\n",
       "      <td>1</td>\n",
       "      <td>1</td>\n",
       "      <td>1</td>\n",
       "      <td>1</td>\n",
       "      <td>1</td>\n",
       "      <td>1</td>\n",
       "      <td>...</td>\n",
       "      <td>0</td>\n",
       "      <td>0</td>\n",
       "      <td>0</td>\n",
       "      <td>0</td>\n",
       "      <td>0</td>\n",
       "      <td>0</td>\n",
       "      <td>0</td>\n",
       "      <td>0</td>\n",
       "      <td>0</td>\n",
       "      <td>0</td>\n",
       "    </tr>\n",
       "    <tr>\n",
       "      <th>248</th>\n",
       "      <td>1773.203.PATRIC</td>\n",
       "      <td>0</td>\n",
       "      <td>1</td>\n",
       "      <td>1</td>\n",
       "      <td>1</td>\n",
       "      <td>1</td>\n",
       "      <td>1</td>\n",
       "      <td>1</td>\n",
       "      <td>1</td>\n",
       "      <td>1</td>\n",
       "      <td>...</td>\n",
       "      <td>0</td>\n",
       "      <td>0</td>\n",
       "      <td>0</td>\n",
       "      <td>0</td>\n",
       "      <td>0</td>\n",
       "      <td>0</td>\n",
       "      <td>0</td>\n",
       "      <td>0</td>\n",
       "      <td>0</td>\n",
       "      <td>0</td>\n",
       "    </tr>\n",
       "  </tbody>\n",
       "</table>\n",
       "<p>249 rows × 2819 columns</p>\n",
       "</div>"
      ],
      "text/plain": [
       "                   id  resistance AATTCGTCGGACGACGGCTACATCCTGGGCA  \\\n",
       "0    1438835.3.PATRIC           0                               1   \n",
       "1    1438837.3.PATRIC           0                               1   \n",
       "2    1438842.3.PATRIC           0                               0   \n",
       "3     83331.31.PATRIC           0                               1   \n",
       "4    1448833.3.PATRIC           1                               0   \n",
       "..                ...         ...                             ...   \n",
       "244  1438867.3.PATRIC           0                               1   \n",
       "245   652616.4.PATRIC           0                               1   \n",
       "246   1773.199.PATRIC           0                               1   \n",
       "247   1773.200.PATRIC           0                               1   \n",
       "248   1773.203.PATRIC           0                               1   \n",
       "\n",
       "    ATGCCCAGGATGTAGCCGTCGTCCGACGAAT CATGCCCAGGATGTAGCCGTCGTCCGACGAA  \\\n",
       "0                                 1                               1   \n",
       "1                                 1                               1   \n",
       "2                                 0                               0   \n",
       "3                                 1                               1   \n",
       "4                                 0                               0   \n",
       "..                              ...                             ...   \n",
       "244                               1                               1   \n",
       "245                               1                               1   \n",
       "246                               1                               1   \n",
       "247                               1                               1   \n",
       "248                               1                               1   \n",
       "\n",
       "    CCATGCCCAGGATGTAGCCGTCGTCCGACGA CGTCGGACGACGGCTACATCCTGGGCATGGC  \\\n",
       "0                                 1                               1   \n",
       "1                                 1                               1   \n",
       "2                                 0                               0   \n",
       "3                                 1                               1   \n",
       "4                                 0                               0   \n",
       "..                              ...                             ...   \n",
       "244                               1                               1   \n",
       "245                               1                               1   \n",
       "246                               1                               1   \n",
       "247                               1                               1   \n",
       "248                               1                               1   \n",
       "\n",
       "    GGCCATGCCCAGGATGTAGCCGTCGTCCGAC GGGCCATGCCCAGGATGTAGCCGTCGTCCGA  \\\n",
       "0                                 1                               1   \n",
       "1                                 1                               1   \n",
       "2                                 0                               0   \n",
       "3                                 1                               1   \n",
       "4                                 0                               0   \n",
       "..                              ...                             ...   \n",
       "244                               1                               1   \n",
       "245                               1                               1   \n",
       "246                               1                               1   \n",
       "247                               1                               1   \n",
       "248                               1                               1   \n",
       "\n",
       "    CGGACGACGGCTACATCCTGGGCATGGCCCG  ... CTGCCTACTACGCTCAACGCCAGAGACCAGC  \\\n",
       "0                                 1  ...                               0   \n",
       "1                                 1  ...                               0   \n",
       "2                                 0  ...                               0   \n",
       "3                                 1  ...                               0   \n",
       "4                                 0  ...                               0   \n",
       "..                              ...  ...                             ...   \n",
       "244                               1  ...                               1   \n",
       "245                               1  ...                               0   \n",
       "246                               1  ...                               0   \n",
       "247                               1  ...                               0   \n",
       "248                               1  ...                               0   \n",
       "\n",
       "    CTGGTCTCTGGCGTTGAGCGTAGTAGGCAGC GGCTGCCTACTACGCTCAACGCCAGAGACCA  \\\n",
       "0                                 0                               0   \n",
       "1                                 0                               0   \n",
       "2                                 0                               0   \n",
       "3                                 0                               0   \n",
       "4                                 0                               0   \n",
       "..                              ...                             ...   \n",
       "244                               1                               1   \n",
       "245                               0                               0   \n",
       "246                               0                               0   \n",
       "247                               0                               0   \n",
       "248                               0                               0   \n",
       "\n",
       "    AGGCTGCCTACTACGCTCAACGCCAGAGACC GAGGCTGCCTACTACGCTCAACGCCAGAGAC  \\\n",
       "0                                 0                               0   \n",
       "1                                 0                               0   \n",
       "2                                 0                               0   \n",
       "3                                 0                               0   \n",
       "4                                 0                               0   \n",
       "..                              ...                             ...   \n",
       "244                               1                               1   \n",
       "245                               0                               0   \n",
       "246                               0                               0   \n",
       "247                               0                               0   \n",
       "248                               0                               0   \n",
       "\n",
       "    CGAGGCTGCCTACTACGCTCAACGCCAGAGA CTCTGGCGTTGAGCGTAGTAGGCAGCCTCGA  \\\n",
       "0                                 0                               0   \n",
       "1                                 0                               0   \n",
       "2                                 0                               0   \n",
       "3                                 0                               0   \n",
       "4                                 0                               0   \n",
       "..                              ...                             ...   \n",
       "244                               1                               1   \n",
       "245                               0                               0   \n",
       "246                               0                               0   \n",
       "247                               0                               0   \n",
       "248                               0                               0   \n",
       "\n",
       "    CTCGAGGCTGCCTACTACGCTCAACGCCAGA ACTCGAGGCTGCCTACTACGCTCAACGCCAG  \\\n",
       "0                                 0                               0   \n",
       "1                                 0                               0   \n",
       "2                                 0                               0   \n",
       "3                                 0                               0   \n",
       "4                                 0                               0   \n",
       "..                              ...                             ...   \n",
       "244                               1                               1   \n",
       "245                               0                               0   \n",
       "246                               0                               0   \n",
       "247                               0                               0   \n",
       "248                               0                               0   \n",
       "\n",
       "    AACTCGAGGCTGCCTACTACGCTCAACGCCA  \n",
       "0                                 0  \n",
       "1                                 0  \n",
       "2                                 0  \n",
       "3                                 0  \n",
       "4                                 0  \n",
       "..                              ...  \n",
       "244                               1  \n",
       "245                               0  \n",
       "246                               0  \n",
       "247                               0  \n",
       "248                               0  \n",
       "\n",
       "[249 rows x 2819 columns]"
      ]
     },
     "execution_count": 6,
     "metadata": {},
     "output_type": "execute_result"
    }
   ],
   "source": [
    "get_data(antibiotic, threshold)"
   ]
  },
  {
   "cell_type": "markdown",
   "id": "f609ba6f-230e-469d-8e08-e284e938fb8d",
   "metadata": {},
   "source": [
    "## 2. Split Train/Test"
   ]
  },
  {
   "cell_type": "code",
   "execution_count": 7,
   "id": "b46970bd-010d-4743-90a2-164ab47a8808",
   "metadata": {
    "tags": []
   },
   "outputs": [],
   "source": [
    "def split_train_test(data):\n",
    "    X = data.iloc[:, 2:].to_numpy()\n",
    "    y = data.iloc[:, 1].to_numpy()\n",
    "    return train_test_split(X, y, stratify=y, test_size=0.2, random_state=1)"
   ]
  },
  {
   "cell_type": "code",
   "execution_count": 8,
   "id": "8bfc4b6f-fcd8-43f8-b3cc-76f4605d2e45",
   "metadata": {
    "tags": []
   },
   "outputs": [
    {
     "name": "stdout",
     "output_type": "stream",
     "text": [
      "(199, 2817)\n",
      "(50, 2817)\n",
      "(199,)\n",
      "(50,)\n"
     ]
    }
   ],
   "source": [
    "data = get_data(antibiotic, threshold)\n",
    "X_train, X_test, y_train, y_test = split_train_test(data)\n",
    "\n",
    "for arr in [X_train, X_test, y_train, y_test]:\n",
    "    print(arr.shape)"
   ]
  },
  {
   "cell_type": "code",
   "execution_count": 9,
   "id": "096a250c-2446-4430-aafc-3cf82a744394",
   "metadata": {
    "tags": []
   },
   "outputs": [],
   "source": [
    "def report_split(data, antibiotic):\n",
    "    X_id = data.iloc[:, 0]\n",
    "    y_id = data.iloc[:, 1]\n",
    "    X_id_train, X_id_test, y_id_train, y_id_test = train_test_split(X_id, y_id, stratify=y_id, test_size=0.2, random_state=1)\n",
    "\n",
    "    X_id_train.to_csv(path.join(path.curdir, f\"id_{antibiotic}_train.csv\"), index=None)\n",
    "    X_id_test.to_csv(path.join(path.curdir, f\"id_{antibiotic}_test.csv\"), index=None)\n",
    "    \n",
    "    \n",
    "emb_data = get_data('ethambutol', thres_ethambutol)\n",
    "report_split(emb_data, 'ethambutol')\n",
    "\n",
    "inh_data = get_data('isoniazid', thres_isoniazid)\n",
    "report_split(inh_data, 'isoniazid')\n",
    "\n",
    "rif_data = get_data('rifampin', thres_rifampin)\n",
    "report_split(rif_data, 'rifampin')"
   ]
  },
  {
   "cell_type": "code",
   "execution_count": null,
   "id": "e2e8593c-1a2f-4f28-b89f-7f022b24a79a",
   "metadata": {
    "tags": []
   },
   "outputs": [],
   "source": []
  },
  {
   "cell_type": "markdown",
   "id": "3ec5d83b-2bd4-473c-9571-a442403c6981",
   "metadata": {},
   "source": [
    "## 3. CatBoost"
   ]
  },
  {
   "cell_type": "markdown",
   "id": "0f06e657-1326-4e1d-acb0-a73eab620cbc",
   "metadata": {},
   "source": [
    "### 3.1 Cross-validation (tanpa _tuning_)"
   ]
  },
  {
   "cell_type": "code",
   "execution_count": 10,
   "id": "a9b6a380-f75e-4254-8063-cc82c13a4a0d",
   "metadata": {
    "tags": []
   },
   "outputs": [],
   "source": [
    "def cv_train(X_train, y_train, antibiotic):\n",
    "    cat_features = list(range(0, X_train.shape[1]))\n",
    "\n",
    "    clf = CatBoostClassifier(\n",
    "        custom_loss=[metrics.AUC()],\n",
    "        logging_level='Silent',\n",
    "        random_state=1,\n",
    "    )\n",
    "\n",
    "    cv_params = clf.get_params()\n",
    "    cv_params.update({ 'loss_function': metrics.Logloss()})\n",
    "\n",
    "    cv_data = cv(\n",
    "        Pool(\n",
    "            X_train, \n",
    "            y_train, \n",
    "            cat_features=cat_features\n",
    "        ),\n",
    "        cv_params,\n",
    "        plot=True\n",
    "    )\n",
    "\n",
    "    print('{} = Best validation AUC score: {:.2f}±{:.2f} on step {}'.format(\n",
    "        antibiotic.title(),\n",
    "        np.max(cv_data['test-AUC-mean']),\n",
    "        cv_data['test-AUC-std'][np.argmax(cv_data['test-AUC-mean'])],\n",
    "        np.argmax(cv_data['test-AUC-mean'])\n",
    "    ))"
   ]
  },
  {
   "cell_type": "code",
   "execution_count": 11,
   "id": "d2462101-9665-41de-a21e-2f5e8d0db234",
   "metadata": {
    "tags": []
   },
   "outputs": [
    {
     "data": {
      "application/vnd.jupyter.widget-view+json": {
       "model_id": "eea3820a3195487a8c1bf4c345ddd625",
       "version_major": 2,
       "version_minor": 0
      },
      "text/plain": [
       "MetricVisualizer(layout=Layout(align_self='stretch', height='500px'))"
      ]
     },
     "metadata": {},
     "output_type": "display_data"
    },
    {
     "name": "stdout",
     "output_type": "stream",
     "text": [
      "Ethambutol = Best validation AUC score: 0.89±0.04 on step 8\n"
     ]
    }
   ],
   "source": [
    "cv_train(X_train, y_train, antibiotic)"
   ]
  },
  {
   "cell_type": "markdown",
   "id": "9b25c398-7dae-461d-8a48-a92ade5117c9",
   "metadata": {},
   "source": [
    "### 3.2 Training & Test"
   ]
  },
  {
   "cell_type": "code",
   "execution_count": 12,
   "id": "9e07fa1c-46a0-432d-93fb-04de890529eb",
   "metadata": {
    "tags": []
   },
   "outputs": [],
   "source": [
    "def train(X_train, y_train):\n",
    "    cat_features = list(range(0, X_train.shape[1]))\n",
    "    clf = CatBoostClassifier(\n",
    "        custom_loss=[metrics.AUC()],\n",
    "        logging_level='Silent',\n",
    "        random_state=1,\n",
    "    )\n",
    "    return clf.fit(\n",
    "        X_train, \n",
    "        y_train, \n",
    "        cat_features=cat_features\n",
    "    )\n",
    "\n",
    "\n",
    "def test_auc(clf, X_test, y_test, antibiotic):\n",
    "    y_pred = clf.predict_proba(X_test)[:, 1]\n",
    "    auc = roc_auc_score(y_test, y_pred)\n",
    "    print(f'{antibiotic.title()}: Skor AUC = %.3f' % auc)\n",
    "    return auc"
   ]
  },
  {
   "cell_type": "code",
   "execution_count": 13,
   "id": "8170703c-6c48-4ca9-a790-713639ed0cf2",
   "metadata": {
    "tags": []
   },
   "outputs": [
    {
     "name": "stdout",
     "output_type": "stream",
     "text": [
      "Ethambutol: Skor AUC = 0.917\n"
     ]
    }
   ],
   "source": [
    "clf = train(X_train, y_train)\n",
    "auc = test_auc(clf, X_test, y_test, antibiotic)"
   ]
  },
  {
   "cell_type": "markdown",
   "id": "a69112f7-32a7-4cec-ad3c-8eb32357f8f4",
   "metadata": {},
   "source": [
    "## 4. Pipeline"
   ]
  },
  {
   "cell_type": "markdown",
   "id": "d97f3caa-02c3-41f3-81e3-ba889697a7e9",
   "metadata": {},
   "source": [
    "### 4.1 Ethambutol"
   ]
  },
  {
   "cell_type": "code",
   "execution_count": 14,
   "id": "c436e6e4-1b95-4986-bf27-e3ac54167e0c",
   "metadata": {
    "tags": []
   },
   "outputs": [
    {
     "data": {
      "application/vnd.jupyter.widget-view+json": {
       "model_id": "ccd7780e655f4d87b9d2b74c4f1ff555",
       "version_major": 2,
       "version_minor": 0
      },
      "text/plain": [
       "MetricVisualizer(layout=Layout(align_self='stretch', height='500px'))"
      ]
     },
     "metadata": {},
     "output_type": "display_data"
    },
    {
     "name": "stdout",
     "output_type": "stream",
     "text": [
      "Ethambutol = Best validation AUC score: 0.89±0.04 on step 8\n"
     ]
    },
    {
     "data": {
      "text/html": [
       "<div>\n",
       "<style scoped>\n",
       "    .dataframe tbody tr th:only-of-type {\n",
       "        vertical-align: middle;\n",
       "    }\n",
       "\n",
       "    .dataframe tbody tr th {\n",
       "        vertical-align: top;\n",
       "    }\n",
       "\n",
       "    .dataframe thead th {\n",
       "        text-align: right;\n",
       "    }\n",
       "</style>\n",
       "<table border=\"1\" class=\"dataframe\">\n",
       "  <thead>\n",
       "    <tr style=\"text-align: right;\">\n",
       "      <th></th>\n",
       "      <th>AATTCGTCGGACGACGGCTACATCCTGGGCA</th>\n",
       "      <th>ATGCCCAGGATGTAGCCGTCGTCCGACGAAT</th>\n",
       "      <th>CATGCCCAGGATGTAGCCGTCGTCCGACGAA</th>\n",
       "      <th>CCATGCCCAGGATGTAGCCGTCGTCCGACGA</th>\n",
       "      <th>CGTCGGACGACGGCTACATCCTGGGCATGGC</th>\n",
       "      <th>GGCCATGCCCAGGATGTAGCCGTCGTCCGAC</th>\n",
       "      <th>GGGCCATGCCCAGGATGTAGCCGTCGTCCGA</th>\n",
       "      <th>CGGACGACGGCTACATCCTGGGCATGGCCCG</th>\n",
       "      <th>GGACGACGGCTACATCCTGGGCATGGCCCGA</th>\n",
       "      <th>CTCGGGCCATGCCCAGGATGTAGCCGTCGTC</th>\n",
       "      <th>...</th>\n",
       "      <th>CTGCCTACTACGCTCAACGCCAGAGACCAGC</th>\n",
       "      <th>CTGGTCTCTGGCGTTGAGCGTAGTAGGCAGC</th>\n",
       "      <th>GGCTGCCTACTACGCTCAACGCCAGAGACCA</th>\n",
       "      <th>AGGCTGCCTACTACGCTCAACGCCAGAGACC</th>\n",
       "      <th>GAGGCTGCCTACTACGCTCAACGCCAGAGAC</th>\n",
       "      <th>CGAGGCTGCCTACTACGCTCAACGCCAGAGA</th>\n",
       "      <th>CTCTGGCGTTGAGCGTAGTAGGCAGCCTCGA</th>\n",
       "      <th>CTCGAGGCTGCCTACTACGCTCAACGCCAGA</th>\n",
       "      <th>ACTCGAGGCTGCCTACTACGCTCAACGCCAG</th>\n",
       "      <th>AACTCGAGGCTGCCTACTACGCTCAACGCCA</th>\n",
       "    </tr>\n",
       "  </thead>\n",
       "  <tbody>\n",
       "  </tbody>\n",
       "</table>\n",
       "<p>0 rows × 2817 columns</p>\n",
       "</div>"
      ],
      "text/plain": [
       "Empty DataFrame\n",
       "Columns: [AATTCGTCGGACGACGGCTACATCCTGGGCA, ATGCCCAGGATGTAGCCGTCGTCCGACGAAT, CATGCCCAGGATGTAGCCGTCGTCCGACGAA, CCATGCCCAGGATGTAGCCGTCGTCCGACGA, CGTCGGACGACGGCTACATCCTGGGCATGGC, GGCCATGCCCAGGATGTAGCCGTCGTCCGAC, GGGCCATGCCCAGGATGTAGCCGTCGTCCGA, CGGACGACGGCTACATCCTGGGCATGGCCCG, GGACGACGGCTACATCCTGGGCATGGCCCGA, CTCGGGCCATGCCCAGGATGTAGCCGTCGTC, ACGACGGCTACATCCTGGGCATGGCCCGAGT, CGACGGCTACATCCTGGGCATGGCCCGAGTC, CGACTCGGGCCATGCCCAGGATGTAGCCGTC, ACGGCTACATCCTGGGCATGGCCCGAGTCGC, CGGCTACATCCTGGGCATGGCCCGAGTCGCC, CGGCGACTCGGGCCATGCCCAGGATGTAGCC, GCTACATCCTGGGCATGGCCCGAGTCGCCGA, CTACATCCTGGGCATGGCCCGAGTCGCCGAC, GGTCGGCGACTCGGGCCATGCCCAGGATGTA, ACATCCTGGGCATGGCCCGAGTCGCCGACCA, CATCCTGGGCATGGCCCGAGTCGCCGACCAC, ATCCTGGGCATGGCCCGAGTCGCCGACCACG, GCGTGGTCGGCGACTCGGGCCATGCCCAGGA, CCTGGGCATGGCCCGAGTCGCCGACCACGCC, CGGCGTGGTCGGCGACTCGGGCCATGCCCAG, CCGGCGTGGTCGGCGACTCGGGCCATGCCCA, GCCGGCGTGGTCGGCGACTCGGGCCATGCCC, AGCCGGCGTGGTCGGCGACTCGGGCCATGCC, GCATGGCCCGAGTCGCCGACCACGCCGGCTA, CATGGCCCGAGTCGCCGACCACGCCGGCTAC, ATGGCCCGAGTCGCCGACCACGCCGGCTACA, AATTCGTCGGACGACGGCTACATCCTGGGCG, ACGCCCAGGATGTAGCCGTCGTCCGACGAAT, CACGCCCAGGATGTAGCCGTCGTCCGACGAA, CCACGCCCAGGATGTAGCCGTCGTCCGACGA, CGTCGGACGACGGCTACATCCTGGGCGTGGC, GGCCACGCCCAGGATGTAGCCGTCGTCCGAC, GGGCCACGCCCAGGATGTAGCCGTCGTCCGA, CGGACGACGGCTACATCCTGGGCGTGGCCCG, GGACGACGGCTACATCCTGGGCGTGGCCCGA, CTCGGGCCACGCCCAGGATGTAGCCGTCGTC, ACGACGGCTACATCCTGGGCGTGGCCCGAGT, CGACGGCTACATCCTGGGCGTGGCCCGAGTC, CGACTCGGGCCACGCCCAGGATGTAGCCGTC, ACGGCTACATCCTGGGCGTGGCCCGAGTCGC, CGGCTACATCCTGGGCGTGGCCCGAGTCGCC, CGGCGACTCGGGCCACGCCCAGGATGTAGCC, GCTACATCCTGGGCGTGGCCCGAGTCGCCGA, CTACATCCTGGGCGTGGCCCGAGTCGCCGAC, GGTCGGCGACTCGGGCCACGCCCAGGATGTA, ACATCCTGGGCGTGGCCCGAGTCGCCGACCA, CATCCTGGGCGTGGCCCGAGTCGCCGACCAC, ATCCTGGGCGTGGCCCGAGTCGCCGACCACG, GCGTGGTCGGCGACTCGGGCCACGCCCAGGA, CCTGGGCGTGGCCCGAGTCGCCGACCACGCC, CGGCGTGGTCGGCGACTCGGGCCACGCCCAG, CCGGCGTGGTCGGCGACTCGGGCCACGCCCA, GCCGGCGTGGTCGGCGACTCGGGCCACGCCC, AGCCGGCGTGGTCGGCGACTCGGGCCACGCC, GCGTGGCCCGAGTCGCCGACCACGCCGGCTA, CGTGGCCCGAGTCGCCGACCACGCCGGCTAC, GTGGCCCGAGTCGCCGACCACGCCGGCTACA, CGACAACCATCAGGGGACCGGTAACGTCGTA, GACAACCATCAGGGGACCGGTAACGTCGTAA, ACAACCATCAGGGGACCGGTAACGTCGTAAC, CAACCATCAGGGGACCGGTAACGTCGTAACG, AACCATCAGGGGACCGGTAACGTCGTAACGT, ACCATCAGGGGACCGGTAACGTCGTAACGTC, CCATCAGGGGACCGGTAACGTCGTAACGTCG, CATCAGGGGACCGGTAACGTCGTAACGTCGG, ATCAGGGGACCGGTAACGTCGTAACGTCGGC, CGCCGACGTTACGACGTTACCGGTCCCCTGA, CAGGGGACCGGTAACGTCGTAACGTCGGCGC, AGGGGACCGGTAACGTCGTAACGTCGGCGCA, ATGCGCCGACGTTACGACGTTACCGGTCCCC, GGGACCGGTAACGTCGTAACGTCGGCGCATA, ATATGCGCCGACGTTACGACGTTACCGGTCC, CATATGCGCCGACGTTACGACGTTACCGGTC, ACCGGTAACGTCGTAACGTCGGCGCATATGA, CCGGTAACGTCGTAACGTCGGCGCATATGAC, CGGTAACGTCGTAACGTCGGCGCATATGACC, GGGTCATATGCGCCGACGTTACGACGTTACC, CGGGTCATATGCGCCGACGTTACGACGTTAC, GCGGGTCATATGCGCCGACGTTACGACGTTA, AACGTCGTAACGTCGGCGCATATGACCCGCG, ACGTCGTAACGTCGGCGCATATGACCCGCGC, CGTCGTAACGTCGGCGCATATGACCCGCGCC, GTCGTAACGTCGGCGCATATGACCCGCGCCA, TCGTAACGTCGGCGCATATGACCCGCGCCAA, CGTAACGTCGGCGCATATGACCCGCGCCAAC, CGTTGGCGCGGGTCATATGCGCCGACGTTAC, TAACGTCGGCGCATATGACCCGCGCCAACGA, AACGTCGGCGCATATGACCCGCGCCAACGAC, ACGTCGGCGCATATGACCCGCGCCAACGACG, CGTCGGCGCATATGACCCGCGCCAACGACGA, ATCGTCGTTGGCGCGGGTCATATGCGCCGAC, CATCGTCGTTGGCGCGGGTCATATGCGCCGA, CGGCGCATATGACCCGCGCCAACGACGATGA, CAGCGCCCCCTGCTGAATCCGCTCATCCAGC, CTGGATGAGCGGATTCAGCAGGGGGCGCTGC, ...]\n",
       "Index: []\n",
       "\n",
       "[0 rows x 2817 columns]"
      ]
     },
     "execution_count": 14,
     "metadata": {},
     "output_type": "execute_result"
    }
   ],
   "source": [
    "emb = 'ethambutol'\n",
    "\n",
    "# Menentukan p-value\n",
    "# https://journals.plos.org/plosbiology/article?id=10.1371/journal.pbio.3001755\n",
    "emb_data = get_data(emb, thres_ethambutol)\n",
    "\n",
    "emb_X_train, emb_X_test, emb_y_train, emb_y_test = split_train_test(emb_data)\n",
    "\n",
    "cv_train(emb_X_train, emb_y_train, emb)\n",
    "emb_clf = train(emb_X_train, emb_y_train)\n",
    "\n",
    "# Simpan model\n",
    "emb_clf.save_model(path.join(MODEL_DIR, f'{emb}_clf.cbm'), format='cbm')\n",
    "\n",
    "# Simpan matriks header untuk app\n",
    "emb_head = emb_data.iloc[0:0, 2:]\n",
    "emb_head.to_csv(path.join(MODEL_DIR, f'{emb}_matrix_head.tsv'), sep='\\t', index=False)\n",
    "emb_head"
   ]
  },
  {
   "cell_type": "markdown",
   "id": "82deef2c-f537-4f8f-8a27-4fbc5f322173",
   "metadata": {},
   "source": [
    "### 4.2 Isoniazid"
   ]
  },
  {
   "cell_type": "code",
   "execution_count": 15,
   "id": "f175c707-db67-4912-9c94-2f65f14456f3",
   "metadata": {
    "tags": []
   },
   "outputs": [
    {
     "data": {
      "application/vnd.jupyter.widget-view+json": {
       "model_id": "b62b1248503c46d598afb218475df0fa",
       "version_major": 2,
       "version_minor": 0
      },
      "text/plain": [
       "MetricVisualizer(layout=Layout(align_self='stretch', height='500px'))"
      ]
     },
     "metadata": {},
     "output_type": "display_data"
    },
    {
     "name": "stdout",
     "output_type": "stream",
     "text": [
      "Isoniazid = Best validation AUC score: 0.96±0.02 on step 9\n"
     ]
    },
    {
     "data": {
      "text/html": [
       "<div>\n",
       "<style scoped>\n",
       "    .dataframe tbody tr th:only-of-type {\n",
       "        vertical-align: middle;\n",
       "    }\n",
       "\n",
       "    .dataframe tbody tr th {\n",
       "        vertical-align: top;\n",
       "    }\n",
       "\n",
       "    .dataframe thead th {\n",
       "        text-align: right;\n",
       "    }\n",
       "</style>\n",
       "<table border=\"1\" class=\"dataframe\">\n",
       "  <thead>\n",
       "    <tr style=\"text-align: right;\">\n",
       "      <th></th>\n",
       "      <th>GACAGTCGGCGCTTGTGGGTCAACCCCGACA</th>\n",
       "      <th>CGACAGTCGGCGCTTGTGGGTCAACCCCGAC</th>\n",
       "      <th>CCGACAGTCGGCGCTTGTGGGTCAACCCCGA</th>\n",
       "      <th>CGGGGTTGACCCACAAGCGCCGACTGTCGGC</th>\n",
       "      <th>CGCCGACAGTCGGCGCTTGTGGGTCAACCCC</th>\n",
       "      <th>GCGCCGACAGTCGGCGCTTGTGGGTCAACCC</th>\n",
       "      <th>AGCGCCGACAGTCGGCGCTTGTGGGTCAACC</th>\n",
       "      <th>CAGCGCCGACAGTCGGCGCTTGTGGGTCAAC</th>\n",
       "      <th>CCAGCGCCGACAGTCGGCGCTTGTGGGTCAA</th>\n",
       "      <th>CCCAGCGCCGACAGTCGGCGCTTGTGGGTCA</th>\n",
       "      <th>...</th>\n",
       "      <th>CTGTCACCCCACTGTCGGCTGACCATCCGAA</th>\n",
       "      <th>GCTGTCACCCCACTGTCGGCTGACCATCCGA</th>\n",
       "      <th>CGGATGGTCAGCCGACAGTGGGGTGACAGCC</th>\n",
       "      <th>CGGCTGTCACCCCACTGTCGGCTGACCATCC</th>\n",
       "      <th>GATGGTCAGCCGACAGTGGGGTGACAGCCGA</th>\n",
       "      <th>ATGGTCAGCCGACAGTGGGGTGACAGCCGAC</th>\n",
       "      <th>TGGTCAGCCGACAGTGGGGTGACAGCCGACA</th>\n",
       "      <th>ATGTCGGCTGTCACCCCACTGTCGGCTGACC</th>\n",
       "      <th>GATGTCGGCTGTCACCCCACTGTCGGCTGAC</th>\n",
       "      <th>TCAGCCGACAGTGGGGTGACAGCCGACATCA</th>\n",
       "    </tr>\n",
       "  </thead>\n",
       "  <tbody>\n",
       "  </tbody>\n",
       "</table>\n",
       "<p>0 rows × 2246 columns</p>\n",
       "</div>"
      ],
      "text/plain": [
       "Empty DataFrame\n",
       "Columns: [GACAGTCGGCGCTTGTGGGTCAACCCCGACA, CGACAGTCGGCGCTTGTGGGTCAACCCCGAC, CCGACAGTCGGCGCTTGTGGGTCAACCCCGA, CGGGGTTGACCCACAAGCGCCGACTGTCGGC, CGCCGACAGTCGGCGCTTGTGGGTCAACCCC, GCGCCGACAGTCGGCGCTTGTGGGTCAACCC, AGCGCCGACAGTCGGCGCTTGTGGGTCAACC, CAGCGCCGACAGTCGGCGCTTGTGGGTCAAC, CCAGCGCCGACAGTCGGCGCTTGTGGGTCAA, CCCAGCGCCGACAGTCGGCGCTTGTGGGTCA, CCCCAGCGCCGACAGTCGGCGCTTGTGGGTC, ACCCACAAGCGCCGACTGTCGGCGCTGGGGC, CCCACAAGCGCCGACTGTCGGCGCTGGGGCC, CCACAAGCGCCGACTGTCGGCGCTGGGGCCC, CACAAGCGCCGACTGTCGGCGCTGGGGCCCG, ACAAGCGCCGACTGTCGGCGCTGGGGCCCGG, GAGTCTCCGGACTCACCGGGGCGGTTCATCC, GTACTCAGCTGAACGATAGGTTGCCGGTTCA, AGTACTCAGCTGAACGATAGGTTGCCGGTTC, AACCGGCAACCTATCGTTCAGCTGAGTACTT, ACCGGCAACCTATCGTTCAGCTGAGTACTTG, CCGGCAACCTATCGTTCAGCTGAGTACTTGA, CGGCAACCTATCGTTCAGCTGAGTACTTGAG, GCTCAAGTACTCAGCTGAACGATAGGTTGCC, AGCTCAAGTACTCAGCTGAACGATAGGTTGC, CAACCTATCGTTCAGCTGAGTACTTGAGCTG, AACCTATCGTTCAGCTGAGTACTTGAGCTGG, ACCTATCGTTCAGCTGAGTACTTGAGCTGGA, CCTATCGTTCAGCTGAGTACTTGAGCTGGAC, CTATCGTTCAGCTGAGTACTTGAGCTGGACA, ATGTCCAGCTCAAGTACTCAGCTGAACGATA, AATGTCCAGCTCAAGTACTCAGCTGAACGAT, GAATGTCCAGCTCAAGTACTCAGCTGAACGA, CGTTCAGCTGAGTACTTGAGCTGGACATTCC, CGGAATGTCCAGCTCAAGTACTCAGCTGAAC, TCGGAATGTCCAGCTCAAGTACTCAGCTGAA, CTCGGAATGTCCAGCTCAAGTACTCAGCTGA, CAGCTGAGTACTTGAGCTGGACATTCCGAGA, AGCTGAGTACTTGAGCTGGACATTCCGAGAA, CTTCTCGGAATGTCCAGCTCAAGTACTCAGC, CCTTCTCGGAATGTCCAGCTCAAGTACTCAG, GCCTTCTCGGAATGTCCAGCTCAAGTACTCA, CGCCTTCTCGGAATGTCCAGCTCAAGTACTC, AGTACTTGAGCTGGACATTCCGAGAAGGCGA, GTACTTGAGCTGGACATTCCGAGAAGGCGAA, TACTTGAGCTGGACATTCCGAGAAGGCGAAA, CGGCATGGATCAACCCGCCCACCCCAGATCC, CGGATCTGGGGTGGGCGGGTTGATCCATGCC, GCATGGATCAACCCGCCCACCCCAGATCCGA, CATGGATCAACCCGCCCACCCCAGATCCGAA, ATGGATCAACCCGCCCACCCCAGATCCGAAA, ATTTCGGATCTGGGGTGGGCGGGTTGATCCA, GGATCAACCCGCCCACCCCAGATCCGAAATA, CTATTTCGGATCTGGGGTGGGCGGGTTGATC, ATCAACCCGCCCACCCCAGATCCGAAATAGC, CGCTATTTCGGATCTGGGGTGGGCGGGTTGA, ACGCTATTTCGGATCTGGGGTGGGCGGGTTG, AACCCGCCCACCCCAGATCCGAAATAGCGTC, ACCCGCCCACCCCAGATCCGAAATAGCGTCC, CCCGCCCACCCCAGATCCGAAATAGCGTCCA, CCGCCCACCCCAGATCCGAAATAGCGTCCAC, CGCCCACCCCAGATCCGAAATAGCGTCCACA, ATGTGGACGCTATTTCGGATCTGGGGTGGGC, CCCACCCCAGATCCGAAATAGCGTCCACATA, CCACCCCAGATCCGAAATAGCGTCCACATAA, ATTATGTGGACGCTATTTCGGATCTGGGGTG, ACCCCAGATCCGAAATAGCGTCCACATAATG, CCCCAGATCCGAAATAGCGTCCACATAATGA, CCCAGATCCGAAATAGCGTCCACATAATGAG, CCAGATCCGAAATAGCGTCCACATAATGAGA, CAGATCCGAAATAGCGTCCACATAATGAGAC, CTGGCGCAAAGAGCTTGACAGGCGCCGCACC, TGGCGCAAAGAGCTTGACAGGCGCCGCACCA, GGCGCAAAGAGCTTGACAGGCGCCGCACCAC, CGTGGTGCGGCGCCTGTCAAGCTCTTTGCGC, CGCAAAGAGCTTGACAGGCGCCGCACCACGC, GCAAAGAGCTTGACAGGCGCCGCACCACGCA, CAAAGAGCTTGACAGGCGCCGCACCACGCAA, AAAGAGCTTGACAGGCGCCGCACCACGCAAG, AAGAGCTTGACAGGCGCCGCACCACGCAAGC, AGAGCTTGACAGGCGCCGCACCACGCAAGCT, CAGCTTGCGTGGTGCGGCGCCTGTCAAGCTC, ACAGCTTGCGTGGTGCGGCGCCTGTCAAGCT, AACAGCTTGCGTGGTGCGGCGCCTGTCAAGC, CTTGACAGGCGCCGCACCACGCAAGCTGTTA, CTAACAGCTTGCGTGGTGCGGCGCCTGTCAA, TCTAACAGCTTGCGTGGTGCGGCGCCTGTCA, GACAGGCGCCGCACCACGCAAGCTGTTAGAC, ACAGGCGCCGCACCACGCAAGCTGTTAGACG, ACGTCTAACAGCTTGCGTGGTGCGGCGCCTG, AGGCGCCGCACCACGCAAGCTGTTAGACGTG, ACACGTCTAACAGCTTGCGTGGTGCGGCGCC, GACACGTCTAACAGCTTGCGTGGTGCGGCGC, CGACACGTCTAACAGCTTGCGTGGTGCGGCG, CCGACACGTCTAACAGCTTGCGTGGTGCGGC, ACCGACACGTCTAACAGCTTGCGTGGTGCGG, CGCACCACGCAAGCTGTTAGACGTGTCGGTC, AGACCGACACGTCTAACAGCTTGCGTGGTGC, AAGACCGACACGTCTAACAGCTTGCGTGGTG, ACCACGCAAGCTGTTAGACGTGTCGGTCTTG, ...]\n",
       "Index: []\n",
       "\n",
       "[0 rows x 2246 columns]"
      ]
     },
     "execution_count": 15,
     "metadata": {},
     "output_type": "execute_result"
    }
   ],
   "source": [
    "inh = 'isoniazid'\n",
    "\n",
    "# Menentukan p-value\n",
    "# https://journals.plos.org/plosbiology/article?id=10.1371/journal.pbio.3001755\n",
    "inh_data = get_data(inh, thres_isoniazid)\n",
    "\n",
    "inh_X_train, inh_X_test, inh_y_train, inh_y_test = split_train_test(inh_data)\n",
    "\n",
    "cv_train(inh_X_train, inh_y_train, inh)\n",
    "inh_clf = train(inh_X_train, inh_y_train)\n",
    "\n",
    "# Simpan model\n",
    "inh_clf.save_model(path.join(MODEL_DIR, f'{inh}_clf.cbm'), format='cbm')\n",
    "\n",
    "# Simpan matriks header untuk app\n",
    "inh_head = inh_data.iloc[0:0, 2:]\n",
    "inh_head.to_csv(path.join(MODEL_DIR, f'{inh}_matrix_head.tsv'), sep='\\t', index=False)\n",
    "inh_head"
   ]
  },
  {
   "cell_type": "markdown",
   "id": "f3ac3dae-b379-4033-b5e2-046796402db6",
   "metadata": {},
   "source": [
    "### 4.3 Rifampin"
   ]
  },
  {
   "cell_type": "code",
   "execution_count": 16,
   "id": "271803c7-e548-4936-8ec7-8ae7805148a3",
   "metadata": {
    "tags": []
   },
   "outputs": [
    {
     "data": {
      "application/vnd.jupyter.widget-view+json": {
       "model_id": "490b6d778595451588a3988e34cd16fa",
       "version_major": 2,
       "version_minor": 0
      },
      "text/plain": [
       "MetricVisualizer(layout=Layout(align_self='stretch', height='500px'))"
      ]
     },
     "metadata": {},
     "output_type": "display_data"
    },
    {
     "name": "stdout",
     "output_type": "stream",
     "text": [
      "Rifampin = Best validation AUC score: 0.95±0.02 on step 165\n"
     ]
    },
    {
     "data": {
      "text/html": [
       "<div>\n",
       "<style scoped>\n",
       "    .dataframe tbody tr th:only-of-type {\n",
       "        vertical-align: middle;\n",
       "    }\n",
       "\n",
       "    .dataframe tbody tr th {\n",
       "        vertical-align: top;\n",
       "    }\n",
       "\n",
       "    .dataframe thead th {\n",
       "        text-align: right;\n",
       "    }\n",
       "</style>\n",
       "<table border=\"1\" class=\"dataframe\">\n",
       "  <thead>\n",
       "    <tr style=\"text-align: right;\">\n",
       "      <th></th>\n",
       "      <th>GACAGTCGGCGCTTGTGGGTCAACCCCGACA</th>\n",
       "      <th>CGACAGTCGGCGCTTGTGGGTCAACCCCGAC</th>\n",
       "      <th>CCGACAGTCGGCGCTTGTGGGTCAACCCCGA</th>\n",
       "      <th>CGGGGTTGACCCACAAGCGCCGACTGTCGGC</th>\n",
       "      <th>CGCCGACAGTCGGCGCTTGTGGGTCAACCCC</th>\n",
       "      <th>GCGCCGACAGTCGGCGCTTGTGGGTCAACCC</th>\n",
       "      <th>AGCGCCGACAGTCGGCGCTTGTGGGTCAACC</th>\n",
       "      <th>CAGCGCCGACAGTCGGCGCTTGTGGGTCAAC</th>\n",
       "      <th>CCAGCGCCGACAGTCGGCGCTTGTGGGTCAA</th>\n",
       "      <th>CCCAGCGCCGACAGTCGGCGCTTGTGGGTCA</th>\n",
       "      <th>...</th>\n",
       "      <th>CACCCCGAGAAGCTGCTACGCCACAACGACG</th>\n",
       "      <th>ACCCCGAGAAGCTGCTACGCCACAACGACGA</th>\n",
       "      <th>CCCCGAGAAGCTGCTACGCCACAACGACGAG</th>\n",
       "      <th>CCCGAGAAGCTGCTACGCCACAACGACGAGG</th>\n",
       "      <th>CCGAGAAGCTGCTACGCCACAACGACGAGGA</th>\n",
       "      <th>ATTGAACCGCCCCGGCATGTCCGGAGACTCC</th>\n",
       "      <th>CTGTGAACCGCCCCGGTGAGTCCGGAGACTC</th>\n",
       "      <th>AGAGTCTCCGGACTCACCGGGGCGGTTCAGA</th>\n",
       "      <th>GAGAGTCTCCGGACTCACCGGGGCGGTTCAA</th>\n",
       "      <th>AGAGTCTCCGGACTCACCGGGGCGGTTCAAT</th>\n",
       "    </tr>\n",
       "  </thead>\n",
       "  <tbody>\n",
       "  </tbody>\n",
       "</table>\n",
       "<p>0 rows × 390 columns</p>\n",
       "</div>"
      ],
      "text/plain": [
       "Empty DataFrame\n",
       "Columns: [GACAGTCGGCGCTTGTGGGTCAACCCCGACA, CGACAGTCGGCGCTTGTGGGTCAACCCCGAC, CCGACAGTCGGCGCTTGTGGGTCAACCCCGA, CGGGGTTGACCCACAAGCGCCGACTGTCGGC, CGCCGACAGTCGGCGCTTGTGGGTCAACCCC, GCGCCGACAGTCGGCGCTTGTGGGTCAACCC, AGCGCCGACAGTCGGCGCTTGTGGGTCAACC, CAGCGCCGACAGTCGGCGCTTGTGGGTCAAC, CCAGCGCCGACAGTCGGCGCTTGTGGGTCAA, CCCAGCGCCGACAGTCGGCGCTTGTGGGTCA, CCCCAGCGCCGACAGTCGGCGCTTGTGGGTC, ACCCACAAGCGCCGACTGTCGGCGCTGGGGC, CCCACAAGCGCCGACTGTCGGCGCTGGGGCC, CCACAAGCGCCGACTGTCGGCGCTGGGGCCC, CACAAGCGCCGACTGTCGGCGCTGGGGCCCG, ACAAGCGCCGACTGTCGGCGCTGGGGCCCGG, CAAGCGCCGACTGTCGGCGCTGGGGCCCGGC, AAGCGCCGACTGTCGGCGCTGGGGCCCGGCG, AGCGCCGACTGTCGGCGCTGGGGCCCGGCGG, ACCGCCGGGCCCCAGCGCCGACAGTCGGCGC, CGCCGACTGTCGGCGCTGGGGCCCGGCGGTC, AGACCGCCGGGCCCCAGCGCCGACAGTCGGC, CAGACCGCCGGGCCCCAGCGCCGACAGTCGG, ACAGACCGCCGGGCCCCAGCGCCGACAGTCG, GACAGACCGCCGGGCCCCAGCGCCGACAGTC, ACTGTCGGCGCTGGGGCCCGGCGGTCTGTCA, CTGTCGGCGCTGGGGCCCGGCGGTCTGTCAC, CGTGACAGACCGCCGGGCCCCAGCGCCGACA, ACGTGACAGACCGCCGGGCCCCAGCGCCGAC, CACGTGACAGACCGCCGGGCCCCAGCGCCGA, CGGCGCTGGGGCCCGGCGGTCTGTCACGTGA, AACAGTCGGCGCTTGTGGGTCAACCCCGACA, CAACAGTCGGCGCTTGTGGGTCAACCCCGAC, CCAACAGTCGGCGCTTGTGGGTCAACCCCGA, CGGGGTTGACCCACAAGCGCCGACTGTTGGC, CGCCAACAGTCGGCGCTTGTGGGTCAACCCC, GCGCCAACAGTCGGCGCTTGTGGGTCAACCC, AGCGCCAACAGTCGGCGCTTGTGGGTCAACC, CAGCGCCAACAGTCGGCGCTTGTGGGTCAAC, CCAGCGCCAACAGTCGGCGCTTGTGGGTCAA, CCCAGCGCCAACAGTCGGCGCTTGTGGGTCA, CCCCAGCGCCAACAGTCGGCGCTTGTGGGTC, ACCCACAAGCGCCGACTGTTGGCGCTGGGGC, CCCACAAGCGCCGACTGTTGGCGCTGGGGCC, CCACAAGCGCCGACTGTTGGCGCTGGGGCCC, CACAAGCGCCGACTGTTGGCGCTGGGGCCCG, ACAAGCGCCGACTGTTGGCGCTGGGGCCCGG, CAAGCGCCGACTGTTGGCGCTGGGGCCCGGC, AAGCGCCGACTGTTGGCGCTGGGGCCCGGCG, AGCGCCGACTGTTGGCGCTGGGGCCCGGCGG, ACCGCCGGGCCCCAGCGCCAACAGTCGGCGC, CGCCGACTGTTGGCGCTGGGGCCCGGCGGTC, AGACCGCCGGGCCCCAGCGCCAACAGTCGGC, CAGACCGCCGGGCCCCAGCGCCAACAGTCGG, ACAGACCGCCGGGCCCCAGCGCCAACAGTCG, GACAGACCGCCGGGCCCCAGCGCCAACAGTC, ACTGTTGGCGCTGGGGCCCGGCGGTCTGTCA, CTGTTGGCGCTGGGGCCCGGCGGTCTGTCAC, CGTGACAGACCGCCGGGCCCCAGCGCCAACA, ACGTGACAGACCGCCGGGCCCCAGCGCCAAC, CACGTGACAGACCGCCGGGCCCCAGCGCCAA, TCACGTGACAGACCGCCGGGCCCCAGCGCCA, CTGGTGATCGCGTCCTTACCGGTTCCGGTGC, CACCGGAACCGGTAAGGACGCGATCACCAGC, ACCGGAACCGGTAAGGACGCGATCACCAGCG, CCGCTGGTGATCGCGTCCTTACCGGTTCCGG, CGGAACCGGTAAGGACGCGATCACCAGCGGC, GGAACCGGTAAGGACGCGATCACCAGCGGCA, ATGCCGCTGGTGATCGCGTCCTTACCGGTTC, AACCGGTAAGGACGCGATCACCAGCGGCATC, ACCGGTAAGGACGCGATCACCAGCGGCATCG, CCGGTAAGGACGCGATCACCAGCGGCATCGA, CGGTAAGGACGCGATCACCAGCGGCATCGAG, CCTCGATGCCGCTGGTGATCGCGTCCTTACC, ACCTCGATGCCGCTGGTGATCGCGTCCTTAC, GACCTCGATGCCGCTGGTGATCGCGTCCTTA, AAGGACGCGATCACCAGCGGCATCGAGGTCG, ACGACCTCGATGCCGCTGGTGATCGCGTCCT, GGACGCGATCACCAGCGGCATCGAGGTCGTA, ATACGACCTCGATGCCGCTGGTGATCGCGTC, ACGCGATCACCAGCGGCATCGAGGTCGTATG, CCATACGACCTCGATGCCGCTGGTGATCGCG, GCGATCACCAGCGGCATCGAGGTCGTATGGA, CGATCACCAGCGGCATCGAGGTCGTATGGAC, CGTCCATACGACCTCGATGCCGCTGGTGATC, ATCACCAGCGGCATCGAGGTCGTATGGACGA, TCACCAGCGGCATCGAGGTCGTATGGACGAA, CACCAGCGGCATCGAGGTCGTATGGACGAAC, ACCAGCGGCATCGAGGTCGTATGGACGAACA, CCAGCGGCATCGAGGTCGTATGGACGAACAC, CAGCGGCATCGAGGTCGTATGGACGAACACC, AGCGGCATCGAGGTCGTATGGACGAACACCC, GCGGCATCGAGGTCGTATGGACGAACACCCC, GCACCGGAACCGGTAAGGACGCGATCACCAC, CCACCGGCATCGAGGTCGTATGGACGAACAC, CACCGGCATCGAGGTCGTATGGACGAACACC, ACCGGCATCGAGGTCGTATGGACGAACACCC, CCGGCATCGAGGTCGTATGGACGAACACCCC, GCTGGCTGCGCCCCAGGGCAATTTCGTATTA, CTGGCTGCGCCCCAGGGCAATTTCGTATTAC, ...]\n",
       "Index: []\n",
       "\n",
       "[0 rows x 390 columns]"
      ]
     },
     "execution_count": 16,
     "metadata": {},
     "output_type": "execute_result"
    }
   ],
   "source": [
    "rif = 'rifampin'\n",
    "\n",
    "# Menentukan p-value\n",
    "# https://journals.plos.org/plosbiology/article?id=10.1371/journal.pbio.3001755\n",
    "rif_data = get_data(rif, thres_rifampin)\n",
    "\n",
    "rif_X_train, rif_X_test, rif_y_train, rif_y_test = split_train_test(rif_data)\n",
    "\n",
    "cv_train(rif_X_train, rif_y_train, rif)\n",
    "rif_clf = train(rif_X_train, rif_y_train)\n",
    "\n",
    "# Simpan model\n",
    "rif_clf.save_model(path.join(MODEL_DIR, f'{rif}_clf.cbm'), format='cbm')\n",
    "\n",
    "# Simpan matriks header untuk app\n",
    "rif_head = rif_data.iloc[0:0, 2:]\n",
    "rif_head.to_csv(path.join(MODEL_DIR, f'{rif}_matrix_head.tsv'), sep='\\t', index=False)\n",
    "rif_head"
   ]
  },
  {
   "cell_type": "markdown",
   "id": "72b68afe-c36f-4b42-8bbc-7cdee49672b6",
   "metadata": {},
   "source": [
    "### 4.4 Evaluasi total"
   ]
  },
  {
   "cell_type": "code",
   "execution_count": 17,
   "id": "e60d50bc-8d2f-47e1-b834-1353a5fefd3a",
   "metadata": {
    "tags": []
   },
   "outputs": [
    {
     "name": "stdout",
     "output_type": "stream",
     "text": [
      "Ethambutol: Skor AUC = 0.917\n",
      "Isoniazid: Skor AUC = 0.954\n",
      "Rifampin: Skor AUC = 0.932\n"
     ]
    },
    {
     "data": {
      "image/png": "[encoded data removed]",
      "text/plain": [
       "<Figure size 640x480 with 1 Axes>"
      ]
     },
     "metadata": {},
     "output_type": "display_data"
    }
   ],
   "source": [
    "def plot_roc(clf, X_test, y_test, antibiotic, color):\n",
    "    y_pred = clf.predict_proba(X_test)[:, 1]\n",
    "    fpr, tpr, _ = roc_curve(y_test, y_pred)\n",
    "    \n",
    "    plt.plot(\n",
    "        fpr, tpr, \n",
    "        color=color, \n",
    "        linestyle='solid', \n",
    "        lw=1.1,\n",
    "        alpha=0.8,\n",
    "        label=f'{antibiotic.title()} (AUC = {test_auc(clf, X_test, y_test, antibiotic):.2f})'\n",
    "    )\n",
    "\n",
    "\n",
    "plot_roc(emb_clf, emb_X_test, emb_y_test, emb, 'tab:red')\n",
    "plot_roc(inh_clf, inh_X_test, inh_y_test, inh, 'tab:orange')\n",
    "plot_roc(rif_clf, rif_X_test, rif_y_test, rif, 'tab:green')\n",
    "\n",
    "plt.plot(\n",
    "    [0, 1], [0, 1], \n",
    "    color='black', \n",
    "    lw=0.8, \n",
    "    linestyle='dashed', \n",
    "    alpha=0.6, \n",
    "    label='Random (AUC = 0.50)'\n",
    ")\n",
    "\n",
    "plt.xlim([-0.02, 1.02])\n",
    "plt.ylim([-0.02, 1.02])\n",
    "plt.xlabel('False Positive Rate')\n",
    "plt.ylabel('True Positive Rate')\n",
    "\n",
    "plt.title('Kurva ROC Prediksi Resistensi Antibiotik', y=1.01, size='large')\n",
    "plt.legend(loc='lower right', prop={'size': 7})\n",
    "\n",
    "plt.savefig(path.join(FIG_DIR, 'roc.png'), format='png', dpi=600, bbox_inches='tight')\n",
    "plt.show()"
   ]
  },
  {
   "cell_type": "code",
   "execution_count": null,
   "id": "65cc5108-5b2d-4a66-8ef3-b612e33b69a2",
   "metadata": {},
   "outputs": [],
   "source": []
  }
 ],
 "metadata": {
  "kernelspec": {
   "display_name": "Python 3 (ipykernel)",
   "language": "python",
   "name": "python3"
  },
  "language_info": {
   "codemirror_mode": {
    "name": "ipython",
    "version": 3
   },
   "file_extension": ".py",
   "mimetype": "text/x-python",
   "name": "python",
   "nbconvert_exporter": "python",
   "pygments_lexer": "ipython3",
   "version": "3.10.10"
  }
 },
 "nbformat": 4,
 "nbformat_minor": 5
}
