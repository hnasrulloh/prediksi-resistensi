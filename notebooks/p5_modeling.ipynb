{
 "cells": [
  {
   "cell_type": "markdown",
   "id": "cd320f06-731f-44a5-8ae9-3d50faf94f83",
   "metadata": {},
   "source": [
    "# Modeling"
   ]
  },
  {
   "cell_type": "code",
   "execution_count": 1,
   "id": "a33dfc4c-c1e6-41f5-b043-0461845eb065",
   "metadata": {
    "tags": []
   },
   "outputs": [
    {
     "name": "stdout",
     "output_type": "stream",
     "text": [
      "Enabling notebook extension jupyter-js-widgets/extension...\n",
      "      - Validating: \u001b[32mOK\u001b[0m\n"
     ]
    }
   ],
   "source": [
    "from os import path\n",
    "\n",
    "import pandas as pd\n",
    "import numpy as np\n",
    "import matplotlib.pyplot as plt\n",
    "from catboost import CatBoostClassifier, Pool, metrics, cv\n",
    "from catboost.utils import get_roc_curve\n",
    "from sklearn.model_selection import train_test_split\n",
    "from sklearn.metrics import roc_auc_score, roc_curve\n",
    "\n",
    "plt.style.use('bmh')\n",
    "!jupyter nbextension enable --py widgetsnbextension"
   ]
  },
  {
   "cell_type": "code",
   "execution_count": 2,
   "id": "060151e3-15e3-4a78-995f-79a48c835644",
   "metadata": {
    "tags": []
   },
   "outputs": [],
   "source": [
    "DATA_DIR = path.join(path.pardir, 'data')\n",
    "PAN_DIR = path.join(DATA_DIR, 'pangenomes')\n",
    "FIG_DIR = path.join(path.pardir, 'figs')\n",
    "MODEL_DIR = path.join(path.pardir, 'models')"
   ]
  },
  {
   "cell_type": "code",
   "execution_count": 3,
   "id": "00bb93d2-442a-495d-8e0f-012a375d26a9",
   "metadata": {
    "tags": []
   },
   "outputs": [],
   "source": [
    "antibiotic = 'ethambutol'\n",
    "threshold = 1e-18"
   ]
  },
  {
   "cell_type": "markdown",
   "id": "79d6ff14-e4db-45d3-b54d-db0c8daafa8b",
   "metadata": {},
   "source": [
    "## 1. Preparasi"
   ]
  },
  {
   "cell_type": "code",
   "execution_count": 4,
   "id": "b8c7e671-0655-43ae-b7df-58634eb72243",
   "metadata": {
    "tags": []
   },
   "outputs": [],
   "source": [
    "selected_clusters = {\n",
    "    'ethambutol': ['rpoB', 'embB', 'group_3642'],\n",
    "    'isoniazid': ['katG', 'embB', 'group_1325', 'group_3081', 'gidB'],\n",
    "    'rifampin': ['katG', 'embB', 'rpoB', 'group_1576'],\n",
    "}\n",
    "\n",
    "\n",
    "def get_cluster2hash(antibiotic):\n",
    "    KMERS_HASHES_PATH = path.join(PAN_DIR, antibiotic, 'panfeed1', 'kmers_to_hashes.tsv')\n",
    "    hashes = pd.read_csv(KMERS_HASHES_PATH, sep='\\t')\n",
    "    return hashes\n",
    "\n",
    "\n",
    "def get_pyseer(antibiotic):\n",
    "    PYSEER_PATH = path.join(PAN_DIR, antibiotic, 'pyseer', 'pyseer.tsv')\n",
    "    pyseer = pd.read_csv(PYSEER_PATH, sep='\\t')\n",
    "    return pyseer\n",
    "\n",
    "\n",
    "def extract_filtered_kmers(antibiotic, threshold):\n",
    "    kmers = get_cluster2hash(antibiotic)\n",
    "    kmers = kmers[kmers.cluster.isin(selected_clusters[antibiotic])]\n",
    "\n",
    "    pvals = get_pyseer(antibiotic)[['variant', 'filter-pvalue']]\n",
    "    pvals.columns = ['variant', 'pval']\n",
    "    pvals = pvals[pvals.pval <= threshold]\n",
    "\n",
    "    kmers = get_cluster2hash(antibiotic).dropna()\n",
    "    kmers.columns = ['cluster', 'kmer', 'variant']\n",
    "    kmers = kmers[kmers.variant.isin(pvals.variant)]\n",
    "    return kmers\n",
    "\n",
    "\n",
    "def get_hashes_patterns(antibiotic):\n",
    "    PATTERN_PATH = path.join(PAN_DIR, antibiotic, 'panfeed1', 'hashes_to_patterns.tsv')\n",
    "    return pd.read_csv(PATTERN_PATH, sep='\\t')\n",
    "\n",
    "\n",
    "def get_traits(antibiotic):\n",
    "    TRAITS_PATH = path.join(DATA_DIR, f'traits_{antibiotic}.tsv')\n",
    "    traits = pd.read_csv(TRAITS_PATH, sep='\\t')\n",
    "    traits.columns = ['id', 'resistance']\n",
    "    return traits\n",
    "\n",
    "\n",
    "def get_kmers_matrix(antibiotic, threshold):\n",
    "    kmers = extract_filtered_kmers(antibiotic, threshold)\n",
    "    patterns = get_hashes_patterns(antibiotic)\n",
    "\n",
    "    patterns = patterns[patterns.hashed_pattern.isin(kmers.variant)]\n",
    "\n",
    "    # Matriks kosong\n",
    "    M = patterns.copy()[0:0]\n",
    "\n",
    "    for sample in patterns.iterrows():\n",
    "        # Ambil Series dari tuple\n",
    "        sample = sample[1]\n",
    "    \n",
    "        for mer in kmers.iterrows():\n",
    "            # Ambil Series dari tuple\n",
    "            mer = mer[1]\n",
    "        \n",
    "            if sample['hashed_pattern'] == mer['variant']:\n",
    "                sample_mer = sample.copy()\n",
    "                sample_mer['hashed_pattern'] = mer['kmer']\n",
    "                M = pd.concat([M, sample_mer.to_frame().T])\n",
    "\n",
    "    M = M.rename(columns={'hashed_pattern': 'kmer'})\n",
    "    M = M.set_index('kmer')\n",
    "    # Sedikit cek\n",
    "    assert all(patterns.iloc[0, 1:] == M.iloc[0, :])\n",
    "    \n",
    "    M = M.T.reset_index().rename(columns={'index': 'id'})\n",
    "    M.index.name = None\n",
    "    M.rename_axis(None, axis=1, inplace=True)\n",
    "    return M\n",
    "\n",
    "\n",
    "def get_data(antibiotic, threshold):\n",
    "    X = get_kmers_matrix(antibiotic, threshold)\n",
    "    y = get_traits(antibiotic)\n",
    "    return pd.merge(y, X, how='inner', on='id')"
   ]
  },
  {
   "cell_type": "code",
   "execution_count": 5,
   "id": "02d01499-77ab-4e1e-aeed-1af27241672a",
   "metadata": {
    "tags": []
   },
   "outputs": [
    {
     "data": {
      "text/html": [
       "<div>\n",
       "<style scoped>\n",
       "    .dataframe tbody tr th:only-of-type {\n",
       "        vertical-align: middle;\n",
       "    }\n",
       "\n",
       "    .dataframe tbody tr th {\n",
       "        vertical-align: top;\n",
       "    }\n",
       "\n",
       "    .dataframe thead th {\n",
       "        text-align: right;\n",
       "    }\n",
       "</style>\n",
       "<table border=\"1\" class=\"dataframe\">\n",
       "  <thead>\n",
       "    <tr style=\"text-align: right;\">\n",
       "      <th></th>\n",
       "      <th>id</th>\n",
       "      <th>resistance</th>\n",
       "      <th>CATGCCCAGGATGTAGCCGTCGTCCGACGAA</th>\n",
       "      <th>CCATGCCCAGGATGTAGCCGTCGTCCGACGA</th>\n",
       "      <th>CGTCGGACGACGGCTACATCCTGGGCATGGC</th>\n",
       "      <th>GGCCATGCCCAGGATGTAGCCGTCGTCCGAC</th>\n",
       "      <th>GGGCCATGCCCAGGATGTAGCCGTCGTCCGA</th>\n",
       "      <th>CGGACGACGGCTACATCCTGGGCATGGCCCG</th>\n",
       "      <th>GGACGACGGCTACATCCTGGGCATGGCCCGA</th>\n",
       "      <th>CTCGGGCCATGCCCAGGATGTAGCCGTCGTC</th>\n",
       "      <th>...</th>\n",
       "      <th>CGATCACCAGCGGCATCGAGGTCGTATGGAC</th>\n",
       "      <th>CGTCCATACGACCTCGATGCCGCTGGTGATC</th>\n",
       "      <th>ATCACCAGCGGCATCGAGGTCGTATGGACGA</th>\n",
       "      <th>TCACCAGCGGCATCGAGGTCGTATGGACGAA</th>\n",
       "      <th>CACCAGCGGCATCGAGGTCGTATGGACGAAC</th>\n",
       "      <th>ACCAGCGGCATCGAGGTCGTATGGACGAACA</th>\n",
       "      <th>CCAGCGGCATCGAGGTCGTATGGACGAACAC</th>\n",
       "      <th>CAGCGGCATCGAGGTCGTATGGACGAACACC</th>\n",
       "      <th>AGCGGCATCGAGGTCGTATGGACGAACACCC</th>\n",
       "      <th>GCGGCATCGAGGTCGTATGGACGAACACCCC</th>\n",
       "    </tr>\n",
       "  </thead>\n",
       "  <tbody>\n",
       "    <tr>\n",
       "      <th>0</th>\n",
       "      <td>1438835.3.PATRIC</td>\n",
       "      <td>0</td>\n",
       "      <td>1</td>\n",
       "      <td>1</td>\n",
       "      <td>1</td>\n",
       "      <td>1</td>\n",
       "      <td>1</td>\n",
       "      <td>1</td>\n",
       "      <td>1</td>\n",
       "      <td>1</td>\n",
       "      <td>...</td>\n",
       "      <td>0</td>\n",
       "      <td>0</td>\n",
       "      <td>0</td>\n",
       "      <td>0</td>\n",
       "      <td>0</td>\n",
       "      <td>0</td>\n",
       "      <td>0</td>\n",
       "      <td>0</td>\n",
       "      <td>0</td>\n",
       "      <td>0</td>\n",
       "    </tr>\n",
       "    <tr>\n",
       "      <th>1</th>\n",
       "      <td>1438837.3.PATRIC</td>\n",
       "      <td>0</td>\n",
       "      <td>1</td>\n",
       "      <td>1</td>\n",
       "      <td>1</td>\n",
       "      <td>1</td>\n",
       "      <td>1</td>\n",
       "      <td>1</td>\n",
       "      <td>1</td>\n",
       "      <td>1</td>\n",
       "      <td>...</td>\n",
       "      <td>0</td>\n",
       "      <td>0</td>\n",
       "      <td>0</td>\n",
       "      <td>0</td>\n",
       "      <td>0</td>\n",
       "      <td>0</td>\n",
       "      <td>0</td>\n",
       "      <td>0</td>\n",
       "      <td>0</td>\n",
       "      <td>0</td>\n",
       "    </tr>\n",
       "    <tr>\n",
       "      <th>2</th>\n",
       "      <td>1438842.3.PATRIC</td>\n",
       "      <td>0</td>\n",
       "      <td>0</td>\n",
       "      <td>0</td>\n",
       "      <td>0</td>\n",
       "      <td>0</td>\n",
       "      <td>0</td>\n",
       "      <td>0</td>\n",
       "      <td>0</td>\n",
       "      <td>0</td>\n",
       "      <td>...</td>\n",
       "      <td>0</td>\n",
       "      <td>0</td>\n",
       "      <td>0</td>\n",
       "      <td>0</td>\n",
       "      <td>0</td>\n",
       "      <td>0</td>\n",
       "      <td>0</td>\n",
       "      <td>0</td>\n",
       "      <td>0</td>\n",
       "      <td>0</td>\n",
       "    </tr>\n",
       "    <tr>\n",
       "      <th>3</th>\n",
       "      <td>83331.31.PATRIC</td>\n",
       "      <td>0</td>\n",
       "      <td>1</td>\n",
       "      <td>1</td>\n",
       "      <td>1</td>\n",
       "      <td>1</td>\n",
       "      <td>1</td>\n",
       "      <td>1</td>\n",
       "      <td>1</td>\n",
       "      <td>1</td>\n",
       "      <td>...</td>\n",
       "      <td>1</td>\n",
       "      <td>1</td>\n",
       "      <td>1</td>\n",
       "      <td>1</td>\n",
       "      <td>1</td>\n",
       "      <td>1</td>\n",
       "      <td>1</td>\n",
       "      <td>1</td>\n",
       "      <td>1</td>\n",
       "      <td>1</td>\n",
       "    </tr>\n",
       "    <tr>\n",
       "      <th>4</th>\n",
       "      <td>1448833.3.PATRIC</td>\n",
       "      <td>1</td>\n",
       "      <td>0</td>\n",
       "      <td>0</td>\n",
       "      <td>0</td>\n",
       "      <td>0</td>\n",
       "      <td>0</td>\n",
       "      <td>0</td>\n",
       "      <td>0</td>\n",
       "      <td>0</td>\n",
       "      <td>...</td>\n",
       "      <td>0</td>\n",
       "      <td>0</td>\n",
       "      <td>0</td>\n",
       "      <td>0</td>\n",
       "      <td>0</td>\n",
       "      <td>0</td>\n",
       "      <td>0</td>\n",
       "      <td>0</td>\n",
       "      <td>0</td>\n",
       "      <td>0</td>\n",
       "    </tr>\n",
       "    <tr>\n",
       "      <th>...</th>\n",
       "      <td>...</td>\n",
       "      <td>...</td>\n",
       "      <td>...</td>\n",
       "      <td>...</td>\n",
       "      <td>...</td>\n",
       "      <td>...</td>\n",
       "      <td>...</td>\n",
       "      <td>...</td>\n",
       "      <td>...</td>\n",
       "      <td>...</td>\n",
       "      <td>...</td>\n",
       "      <td>...</td>\n",
       "      <td>...</td>\n",
       "      <td>...</td>\n",
       "      <td>...</td>\n",
       "      <td>...</td>\n",
       "      <td>...</td>\n",
       "      <td>...</td>\n",
       "      <td>...</td>\n",
       "      <td>...</td>\n",
       "      <td>...</td>\n",
       "    </tr>\n",
       "    <tr>\n",
       "      <th>244</th>\n",
       "      <td>1438867.3.PATRIC</td>\n",
       "      <td>0</td>\n",
       "      <td>1</td>\n",
       "      <td>1</td>\n",
       "      <td>1</td>\n",
       "      <td>1</td>\n",
       "      <td>1</td>\n",
       "      <td>1</td>\n",
       "      <td>1</td>\n",
       "      <td>1</td>\n",
       "      <td>...</td>\n",
       "      <td>0</td>\n",
       "      <td>0</td>\n",
       "      <td>0</td>\n",
       "      <td>0</td>\n",
       "      <td>0</td>\n",
       "      <td>0</td>\n",
       "      <td>0</td>\n",
       "      <td>0</td>\n",
       "      <td>0</td>\n",
       "      <td>0</td>\n",
       "    </tr>\n",
       "    <tr>\n",
       "      <th>245</th>\n",
       "      <td>652616.4.PATRIC</td>\n",
       "      <td>0</td>\n",
       "      <td>1</td>\n",
       "      <td>1</td>\n",
       "      <td>1</td>\n",
       "      <td>1</td>\n",
       "      <td>1</td>\n",
       "      <td>1</td>\n",
       "      <td>1</td>\n",
       "      <td>1</td>\n",
       "      <td>...</td>\n",
       "      <td>1</td>\n",
       "      <td>1</td>\n",
       "      <td>1</td>\n",
       "      <td>1</td>\n",
       "      <td>1</td>\n",
       "      <td>1</td>\n",
       "      <td>1</td>\n",
       "      <td>1</td>\n",
       "      <td>1</td>\n",
       "      <td>1</td>\n",
       "    </tr>\n",
       "    <tr>\n",
       "      <th>246</th>\n",
       "      <td>1773.199.PATRIC</td>\n",
       "      <td>0</td>\n",
       "      <td>1</td>\n",
       "      <td>1</td>\n",
       "      <td>1</td>\n",
       "      <td>1</td>\n",
       "      <td>1</td>\n",
       "      <td>1</td>\n",
       "      <td>1</td>\n",
       "      <td>1</td>\n",
       "      <td>...</td>\n",
       "      <td>1</td>\n",
       "      <td>1</td>\n",
       "      <td>1</td>\n",
       "      <td>1</td>\n",
       "      <td>1</td>\n",
       "      <td>1</td>\n",
       "      <td>1</td>\n",
       "      <td>1</td>\n",
       "      <td>1</td>\n",
       "      <td>1</td>\n",
       "    </tr>\n",
       "    <tr>\n",
       "      <th>247</th>\n",
       "      <td>1773.200.PATRIC</td>\n",
       "      <td>0</td>\n",
       "      <td>1</td>\n",
       "      <td>1</td>\n",
       "      <td>1</td>\n",
       "      <td>1</td>\n",
       "      <td>1</td>\n",
       "      <td>1</td>\n",
       "      <td>1</td>\n",
       "      <td>1</td>\n",
       "      <td>...</td>\n",
       "      <td>0</td>\n",
       "      <td>0</td>\n",
       "      <td>0</td>\n",
       "      <td>0</td>\n",
       "      <td>0</td>\n",
       "      <td>0</td>\n",
       "      <td>0</td>\n",
       "      <td>0</td>\n",
       "      <td>0</td>\n",
       "      <td>0</td>\n",
       "    </tr>\n",
       "    <tr>\n",
       "      <th>248</th>\n",
       "      <td>1773.203.PATRIC</td>\n",
       "      <td>0</td>\n",
       "      <td>1</td>\n",
       "      <td>1</td>\n",
       "      <td>1</td>\n",
       "      <td>1</td>\n",
       "      <td>1</td>\n",
       "      <td>1</td>\n",
       "      <td>1</td>\n",
       "      <td>1</td>\n",
       "      <td>...</td>\n",
       "      <td>1</td>\n",
       "      <td>1</td>\n",
       "      <td>1</td>\n",
       "      <td>1</td>\n",
       "      <td>1</td>\n",
       "      <td>1</td>\n",
       "      <td>1</td>\n",
       "      <td>1</td>\n",
       "      <td>1</td>\n",
       "      <td>1</td>\n",
       "    </tr>\n",
       "  </tbody>\n",
       "</table>\n",
       "<p>249 rows × 87 columns</p>\n",
       "</div>"
      ],
      "text/plain": [
       "                   id  resistance CATGCCCAGGATGTAGCCGTCGTCCGACGAA  \\\n",
       "0    1438835.3.PATRIC           0                               1   \n",
       "1    1438837.3.PATRIC           0                               1   \n",
       "2    1438842.3.PATRIC           0                               0   \n",
       "3     83331.31.PATRIC           0                               1   \n",
       "4    1448833.3.PATRIC           1                               0   \n",
       "..                ...         ...                             ...   \n",
       "244  1438867.3.PATRIC           0                               1   \n",
       "245   652616.4.PATRIC           0                               1   \n",
       "246   1773.199.PATRIC           0                               1   \n",
       "247   1773.200.PATRIC           0                               1   \n",
       "248   1773.203.PATRIC           0                               1   \n",
       "\n",
       "    CCATGCCCAGGATGTAGCCGTCGTCCGACGA CGTCGGACGACGGCTACATCCTGGGCATGGC  \\\n",
       "0                                 1                               1   \n",
       "1                                 1                               1   \n",
       "2                                 0                               0   \n",
       "3                                 1                               1   \n",
       "4                                 0                               0   \n",
       "..                              ...                             ...   \n",
       "244                               1                               1   \n",
       "245                               1                               1   \n",
       "246                               1                               1   \n",
       "247                               1                               1   \n",
       "248                               1                               1   \n",
       "\n",
       "    GGCCATGCCCAGGATGTAGCCGTCGTCCGAC GGGCCATGCCCAGGATGTAGCCGTCGTCCGA  \\\n",
       "0                                 1                               1   \n",
       "1                                 1                               1   \n",
       "2                                 0                               0   \n",
       "3                                 1                               1   \n",
       "4                                 0                               0   \n",
       "..                              ...                             ...   \n",
       "244                               1                               1   \n",
       "245                               1                               1   \n",
       "246                               1                               1   \n",
       "247                               1                               1   \n",
       "248                               1                               1   \n",
       "\n",
       "    CGGACGACGGCTACATCCTGGGCATGGCCCG GGACGACGGCTACATCCTGGGCATGGCCCGA  \\\n",
       "0                                 1                               1   \n",
       "1                                 1                               1   \n",
       "2                                 0                               0   \n",
       "3                                 1                               1   \n",
       "4                                 0                               0   \n",
       "..                              ...                             ...   \n",
       "244                               1                               1   \n",
       "245                               1                               1   \n",
       "246                               1                               1   \n",
       "247                               1                               1   \n",
       "248                               1                               1   \n",
       "\n",
       "    CTCGGGCCATGCCCAGGATGTAGCCGTCGTC  ... CGATCACCAGCGGCATCGAGGTCGTATGGAC  \\\n",
       "0                                 1  ...                               0   \n",
       "1                                 1  ...                               0   \n",
       "2                                 0  ...                               0   \n",
       "3                                 1  ...                               1   \n",
       "4                                 0  ...                               0   \n",
       "..                              ...  ...                             ...   \n",
       "244                               1  ...                               0   \n",
       "245                               1  ...                               1   \n",
       "246                               1  ...                               1   \n",
       "247                               1  ...                               0   \n",
       "248                               1  ...                               1   \n",
       "\n",
       "    CGTCCATACGACCTCGATGCCGCTGGTGATC ATCACCAGCGGCATCGAGGTCGTATGGACGA  \\\n",
       "0                                 0                               0   \n",
       "1                                 0                               0   \n",
       "2                                 0                               0   \n",
       "3                                 1                               1   \n",
       "4                                 0                               0   \n",
       "..                              ...                             ...   \n",
       "244                               0                               0   \n",
       "245                               1                               1   \n",
       "246                               1                               1   \n",
       "247                               0                               0   \n",
       "248                               1                               1   \n",
       "\n",
       "    TCACCAGCGGCATCGAGGTCGTATGGACGAA CACCAGCGGCATCGAGGTCGTATGGACGAAC  \\\n",
       "0                                 0                               0   \n",
       "1                                 0                               0   \n",
       "2                                 0                               0   \n",
       "3                                 1                               1   \n",
       "4                                 0                               0   \n",
       "..                              ...                             ...   \n",
       "244                               0                               0   \n",
       "245                               1                               1   \n",
       "246                               1                               1   \n",
       "247                               0                               0   \n",
       "248                               1                               1   \n",
       "\n",
       "    ACCAGCGGCATCGAGGTCGTATGGACGAACA CCAGCGGCATCGAGGTCGTATGGACGAACAC  \\\n",
       "0                                 0                               0   \n",
       "1                                 0                               0   \n",
       "2                                 0                               0   \n",
       "3                                 1                               1   \n",
       "4                                 0                               0   \n",
       "..                              ...                             ...   \n",
       "244                               0                               0   \n",
       "245                               1                               1   \n",
       "246                               1                               1   \n",
       "247                               0                               0   \n",
       "248                               1                               1   \n",
       "\n",
       "    CAGCGGCATCGAGGTCGTATGGACGAACACC AGCGGCATCGAGGTCGTATGGACGAACACCC  \\\n",
       "0                                 0                               0   \n",
       "1                                 0                               0   \n",
       "2                                 0                               0   \n",
       "3                                 1                               1   \n",
       "4                                 0                               0   \n",
       "..                              ...                             ...   \n",
       "244                               0                               0   \n",
       "245                               1                               1   \n",
       "246                               1                               1   \n",
       "247                               0                               0   \n",
       "248                               1                               1   \n",
       "\n",
       "    GCGGCATCGAGGTCGTATGGACGAACACCCC  \n",
       "0                                 0  \n",
       "1                                 0  \n",
       "2                                 0  \n",
       "3                                 1  \n",
       "4                                 0  \n",
       "..                              ...  \n",
       "244                               0  \n",
       "245                               1  \n",
       "246                               1  \n",
       "247                               0  \n",
       "248                               1  \n",
       "\n",
       "[249 rows x 87 columns]"
      ]
     },
     "execution_count": 5,
     "metadata": {},
     "output_type": "execute_result"
    }
   ],
   "source": [
    "get_data(antibiotic, threshold)"
   ]
  },
  {
   "cell_type": "markdown",
   "id": "f609ba6f-230e-469d-8e08-e284e938fb8d",
   "metadata": {},
   "source": [
    "## 2. Split Train/Test"
   ]
  },
  {
   "cell_type": "code",
   "execution_count": 6,
   "id": "b46970bd-010d-4743-90a2-164ab47a8808",
   "metadata": {
    "tags": []
   },
   "outputs": [],
   "source": [
    "def split_train_test(data):\n",
    "    X = data.iloc[:, 2:].to_numpy()\n",
    "    y = data.iloc[:, 1].to_numpy()\n",
    "    return train_test_split(X, y, stratify=y, test_size=0.2, random_state=1)"
   ]
  },
  {
   "cell_type": "code",
   "execution_count": 7,
   "id": "8bfc4b6f-fcd8-43f8-b3cc-76f4605d2e45",
   "metadata": {
    "tags": []
   },
   "outputs": [
    {
     "name": "stdout",
     "output_type": "stream",
     "text": [
      "(199, 85)\n",
      "(50, 85)\n",
      "(199,)\n",
      "(50,)\n"
     ]
    }
   ],
   "source": [
    "data = get_data(antibiotic, threshold)\n",
    "X_train, X_test, y_train, y_test = split_train_test(data)\n",
    "\n",
    "for arr in [X_train, X_test, y_train, y_test]:\n",
    "    print(arr.shape)"
   ]
  },
  {
   "cell_type": "markdown",
   "id": "3ec5d83b-2bd4-473c-9571-a442403c6981",
   "metadata": {},
   "source": [
    "## 3. CatBoost"
   ]
  },
  {
   "cell_type": "markdown",
   "id": "0f06e657-1326-4e1d-acb0-a73eab620cbc",
   "metadata": {},
   "source": [
    "### 3.1 Cross-validation (tanpa _tuning_)"
   ]
  },
  {
   "cell_type": "code",
   "execution_count": 8,
   "id": "a9b6a380-f75e-4254-8063-cc82c13a4a0d",
   "metadata": {
    "tags": []
   },
   "outputs": [],
   "source": [
    "def cv_train(X_train, y_train, antibiotic):\n",
    "    cat_features = list(range(0, X_train.shape[1]))\n",
    "\n",
    "    clf = CatBoostClassifier(\n",
    "        custom_loss=[metrics.AUC()],\n",
    "        logging_level='Silent',\n",
    "        random_state=1,\n",
    "    )\n",
    "\n",
    "    cv_params = clf.get_params()\n",
    "    cv_params.update({ 'loss_function': metrics.Logloss()})\n",
    "\n",
    "    cv_data = cv(\n",
    "        Pool(X_train, y_train, cat_features=cat_features),\n",
    "        cv_params,\n",
    "        plot=True\n",
    "    )\n",
    "\n",
    "    print('{} = Best validation AUC score: {:.2f}±{:.2f} on step {}'.format(\n",
    "        antibiotic.title(),\n",
    "        np.max(cv_data['test-AUC-mean']),\n",
    "        cv_data['test-AUC-std'][np.argmax(cv_data['test-AUC-mean'])],\n",
    "        np.argmax(cv_data['test-AUC-mean'])\n",
    "    ))"
   ]
  },
  {
   "cell_type": "code",
   "execution_count": 9,
   "id": "d2462101-9665-41de-a21e-2f5e8d0db234",
   "metadata": {
    "tags": []
   },
   "outputs": [
    {
     "data": {
      "application/vnd.jupyter.widget-view+json": {
       "model_id": "6da7d3b07fa34d5ca157fe3240ea9818",
       "version_major": 2,
       "version_minor": 0
      },
      "text/plain": [
       "MetricVisualizer(layout=Layout(align_self='stretch', height='500px'))"
      ]
     },
     "metadata": {},
     "output_type": "display_data"
    },
    {
     "name": "stdout",
     "output_type": "stream",
     "text": [
      "Ethambutol = Best validation AUC score: 0.93±0.01 on step 51\n"
     ]
    }
   ],
   "source": [
    "cv_train(X_train, y_train, antibiotic)"
   ]
  },
  {
   "cell_type": "markdown",
   "id": "9b25c398-7dae-461d-8a48-a92ade5117c9",
   "metadata": {},
   "source": [
    "### 3.2 Training & Test"
   ]
  },
  {
   "cell_type": "code",
   "execution_count": 10,
   "id": "9e07fa1c-46a0-432d-93fb-04de890529eb",
   "metadata": {
    "tags": []
   },
   "outputs": [],
   "source": [
    "def train(X_train, y_train):\n",
    "    cat_features = list(range(0, X_train.shape[1]))\n",
    "    clf = CatBoostClassifier(\n",
    "        custom_loss=[metrics.AUC()],\n",
    "        logging_level='Silent',\n",
    "        random_state=1,\n",
    "    )\n",
    "    return clf.fit(X_train, y_train, cat_features=cat_features)\n",
    "\n",
    "\n",
    "def test_auc(clf, X_test, y_test, antibiotic):\n",
    "    y_pred = clf.predict_proba(X_test)[:, 1]\n",
    "    auc = roc_auc_score(y_test, y_pred)\n",
    "    print(f'{antibiotic.title()}: Skor AUC = %.3f' % auc)\n",
    "    return auc"
   ]
  },
  {
   "cell_type": "code",
   "execution_count": 11,
   "id": "8170703c-6c48-4ca9-a790-713639ed0cf2",
   "metadata": {
    "tags": []
   },
   "outputs": [
    {
     "name": "stdout",
     "output_type": "stream",
     "text": [
      "Ethambutol: Skor AUC = 0.946\n"
     ]
    }
   ],
   "source": [
    "clf = train(X_train, y_train)\n",
    "auc = test_auc(clf, X_test, y_test, antibiotic)"
   ]
  },
  {
   "cell_type": "markdown",
   "id": "a69112f7-32a7-4cec-ad3c-8eb32357f8f4",
   "metadata": {},
   "source": [
    "## 4. Pipeline"
   ]
  },
  {
   "cell_type": "markdown",
   "id": "d97f3caa-02c3-41f3-81e3-ba889697a7e9",
   "metadata": {},
   "source": [
    "### 4.1 Ethambutol"
   ]
  },
  {
   "cell_type": "code",
   "execution_count": 12,
   "id": "c436e6e4-1b95-4986-bf27-e3ac54167e0c",
   "metadata": {
    "tags": []
   },
   "outputs": [
    {
     "data": {
      "application/vnd.jupyter.widget-view+json": {
       "model_id": "96305fa417904ac49819582e596ea100",
       "version_major": 2,
       "version_minor": 0
      },
      "text/plain": [
       "MetricVisualizer(layout=Layout(align_self='stretch', height='500px'))"
      ]
     },
     "metadata": {},
     "output_type": "display_data"
    },
    {
     "name": "stdout",
     "output_type": "stream",
     "text": [
      "Ethambutol = Best validation AUC score: 0.93±0.01 on step 51\n"
     ]
    },
    {
     "data": {
      "text/html": [
       "<div>\n",
       "<style scoped>\n",
       "    .dataframe tbody tr th:only-of-type {\n",
       "        vertical-align: middle;\n",
       "    }\n",
       "\n",
       "    .dataframe tbody tr th {\n",
       "        vertical-align: top;\n",
       "    }\n",
       "\n",
       "    .dataframe thead th {\n",
       "        text-align: right;\n",
       "    }\n",
       "</style>\n",
       "<table border=\"1\" class=\"dataframe\">\n",
       "  <thead>\n",
       "    <tr style=\"text-align: right;\">\n",
       "      <th></th>\n",
       "      <th>CATGCCCAGGATGTAGCCGTCGTCCGACGAA</th>\n",
       "      <th>CCATGCCCAGGATGTAGCCGTCGTCCGACGA</th>\n",
       "      <th>CGTCGGACGACGGCTACATCCTGGGCATGGC</th>\n",
       "      <th>GGCCATGCCCAGGATGTAGCCGTCGTCCGAC</th>\n",
       "      <th>GGGCCATGCCCAGGATGTAGCCGTCGTCCGA</th>\n",
       "      <th>CGGACGACGGCTACATCCTGGGCATGGCCCG</th>\n",
       "      <th>GGACGACGGCTACATCCTGGGCATGGCCCGA</th>\n",
       "      <th>CTCGGGCCATGCCCAGGATGTAGCCGTCGTC</th>\n",
       "      <th>ACGACGGCTACATCCTGGGCATGGCCCGAGT</th>\n",
       "      <th>CGACGGCTACATCCTGGGCATGGCCCGAGTC</th>\n",
       "      <th>...</th>\n",
       "      <th>CGATCACCAGCGGCATCGAGGTCGTATGGAC</th>\n",
       "      <th>CGTCCATACGACCTCGATGCCGCTGGTGATC</th>\n",
       "      <th>ATCACCAGCGGCATCGAGGTCGTATGGACGA</th>\n",
       "      <th>TCACCAGCGGCATCGAGGTCGTATGGACGAA</th>\n",
       "      <th>CACCAGCGGCATCGAGGTCGTATGGACGAAC</th>\n",
       "      <th>ACCAGCGGCATCGAGGTCGTATGGACGAACA</th>\n",
       "      <th>CCAGCGGCATCGAGGTCGTATGGACGAACAC</th>\n",
       "      <th>CAGCGGCATCGAGGTCGTATGGACGAACACC</th>\n",
       "      <th>AGCGGCATCGAGGTCGTATGGACGAACACCC</th>\n",
       "      <th>GCGGCATCGAGGTCGTATGGACGAACACCCC</th>\n",
       "    </tr>\n",
       "  </thead>\n",
       "  <tbody>\n",
       "  </tbody>\n",
       "</table>\n",
       "<p>0 rows × 85 columns</p>\n",
       "</div>"
      ],
      "text/plain": [
       "Empty DataFrame\n",
       "Columns: [CATGCCCAGGATGTAGCCGTCGTCCGACGAA, CCATGCCCAGGATGTAGCCGTCGTCCGACGA, CGTCGGACGACGGCTACATCCTGGGCATGGC, GGCCATGCCCAGGATGTAGCCGTCGTCCGAC, GGGCCATGCCCAGGATGTAGCCGTCGTCCGA, CGGACGACGGCTACATCCTGGGCATGGCCCG, GGACGACGGCTACATCCTGGGCATGGCCCGA, CTCGGGCCATGCCCAGGATGTAGCCGTCGTC, ACGACGGCTACATCCTGGGCATGGCCCGAGT, CGACGGCTACATCCTGGGCATGGCCCGAGTC, CGACTCGGGCCATGCCCAGGATGTAGCCGTC, ACGGCTACATCCTGGGCATGGCCCGAGTCGC, CGGCTACATCCTGGGCATGGCCCGAGTCGCC, CGGCGACTCGGGCCATGCCCAGGATGTAGCC, GCTACATCCTGGGCATGGCCCGAGTCGCCGA, CTACATCCTGGGCATGGCCCGAGTCGCCGAC, GGTCGGCGACTCGGGCCATGCCCAGGATGTA, ACATCCTGGGCATGGCCCGAGTCGCCGACCA, CATCCTGGGCATGGCCCGAGTCGCCGACCAC, ATCCTGGGCATGGCCCGAGTCGCCGACCACG, GCGTGGTCGGCGACTCGGGCCATGCCCAGGA, CCTGGGCATGGCCCGAGTCGCCGACCACGCC, CGGCGTGGTCGGCGACTCGGGCCATGCCCAG, CCGGCGTGGTCGGCGACTCGGGCCATGCCCA, GCCGGCGTGGTCGGCGACTCGGGCCATGCCC, AGCCGGCGTGGTCGGCGACTCGGGCCATGCC, GCATGGCCCGAGTCGCCGACCACGCCGGCTA, CATGGCCCGAGTCGCCGACCACGCCGGCTAC, ATGGCCCGAGTCGCCGACCACGCCGGCTACA, AGCGCCGACAGTCGGCGCTTGTGGGTCAACC, CAGCGCCGACAGTCGGCGCTTGTGGGTCAAC, CCAGCGCCGACAGTCGGCGCTTGTGGGTCAA, CCCAGCGCCGACAGTCGGCGCTTGTGGGTCA, CCCCAGCGCCGACAGTCGGCGCTTGTGGGTC, ACCCACAAGCGCCGACTGTCGGCGCTGGGGC, CCCACAAGCGCCGACTGTCGGCGCTGGGGCC, CCACAAGCGCCGACTGTCGGCGCTGGGGCCC, CACAAGCGCCGACTGTCGGCGCTGGGGCCCG, ACAAGCGCCGACTGTCGGCGCTGGGGCCCGG, CAAGCGCCGACTGTCGGCGCTGGGGCCCGGC, AAGCGCCGACTGTCGGCGCTGGGGCCCGGCG, AGCGCCGACTGTCGGCGCTGGGGCCCGGCGG, ACCGCCGGGCCCCAGCGCCGACAGTCGGCGC, CGCCGACTGTCGGCGCTGGGGCCCGGCGGTC, AGACCGCCGGGCCCCAGCGCCGACAGTCGGC, CAGACCGCCGGGCCCCAGCGCCGACAGTCGG, ACAGACCGCCGGGCCCCAGCGCCGACAGTCG, GACAGACCGCCGGGCCCCAGCGCCGACAGTC, ACTGTCGGCGCTGGGGCCCGGCGGTCTGTCA, CTGTCGGCGCTGGGGCCCGGCGGTCTGTCAC, CGTGACAGACCGCCGGGCCCCAGCGCCGACA, ACGTGACAGACCGCCGGGCCCCAGCGCCGAC, CACGTGACAGACCGCCGGGCCCCAGCGCCGA, CGGCGCTGGGGCCCGGCGGTCTGTCACGTGA, CTGGTGATCGCGTCCTTACCGGTTCCGGTGC, CACCGGAACCGGTAAGGACGCGATCACCAGC, ACCGGAACCGGTAAGGACGCGATCACCAGCG, CCGCTGGTGATCGCGTCCTTACCGGTTCCGG, CGGAACCGGTAAGGACGCGATCACCAGCGGC, GGAACCGGTAAGGACGCGATCACCAGCGGCA, ATGCCGCTGGTGATCGCGTCCTTACCGGTTC, AACCGGTAAGGACGCGATCACCAGCGGCATC, ACCGGTAAGGACGCGATCACCAGCGGCATCG, CCGGTAAGGACGCGATCACCAGCGGCATCGA, CGGTAAGGACGCGATCACCAGCGGCATCGAG, CCTCGATGCCGCTGGTGATCGCGTCCTTACC, ACCTCGATGCCGCTGGTGATCGCGTCCTTAC, GACCTCGATGCCGCTGGTGATCGCGTCCTTA, AAGGACGCGATCACCAGCGGCATCGAGGTCG, ACGACCTCGATGCCGCTGGTGATCGCGTCCT, GGACGCGATCACCAGCGGCATCGAGGTCGTA, ATACGACCTCGATGCCGCTGGTGATCGCGTC, ACGCGATCACCAGCGGCATCGAGGTCGTATG, CCATACGACCTCGATGCCGCTGGTGATCGCG, GCGATCACCAGCGGCATCGAGGTCGTATGGA, CGATCACCAGCGGCATCGAGGTCGTATGGAC, CGTCCATACGACCTCGATGCCGCTGGTGATC, ATCACCAGCGGCATCGAGGTCGTATGGACGA, TCACCAGCGGCATCGAGGTCGTATGGACGAA, CACCAGCGGCATCGAGGTCGTATGGACGAAC, ACCAGCGGCATCGAGGTCGTATGGACGAACA, CCAGCGGCATCGAGGTCGTATGGACGAACAC, CAGCGGCATCGAGGTCGTATGGACGAACACC, AGCGGCATCGAGGTCGTATGGACGAACACCC, GCGGCATCGAGGTCGTATGGACGAACACCCC]\n",
       "Index: []\n",
       "\n",
       "[0 rows x 85 columns]"
      ]
     },
     "execution_count": 12,
     "metadata": {},
     "output_type": "execute_result"
    }
   ],
   "source": [
    "emb = 'ethambutol'\n",
    "\n",
    "emb_data = get_data(emb, 1e-18)\n",
    "\n",
    "emb_X_train, emb_X_test, emb_y_train, emb_y_test = split_train_test(emb_data)\n",
    "\n",
    "cv_train(emb_X_train, emb_y_train, emb)\n",
    "emb_clf = train(emb_X_train, emb_y_train)\n",
    "\n",
    "# Simpan model\n",
    "emb_clf.save_model(path.join(MODEL_DIR, f'{emb}_clf.cbm'), format='cbm')\n",
    "\n",
    "# Simpan matriks header untuk app\n",
    "emb_head = emb_data.iloc[0:0, 2:]\n",
    "emb_head.to_csv(path.join(MODEL_DIR, f'{emb}_matrix_head.tsv'), sep='\\t', index=False)\n",
    "emb_head"
   ]
  },
  {
   "cell_type": "markdown",
   "id": "82deef2c-f537-4f8f-8a27-4fbc5f322173",
   "metadata": {},
   "source": [
    "### 4.2 Isoniazid"
   ]
  },
  {
   "cell_type": "code",
   "execution_count": 13,
   "id": "f175c707-db67-4912-9c94-2f65f14456f3",
   "metadata": {
    "tags": []
   },
   "outputs": [
    {
     "data": {
      "application/vnd.jupyter.widget-view+json": {
       "model_id": "44b3651d6aad4b4290ee9f7801ed956e",
       "version_major": 2,
       "version_minor": 0
      },
      "text/plain": [
       "MetricVisualizer(layout=Layout(align_self='stretch', height='500px'))"
      ]
     },
     "metadata": {},
     "output_type": "display_data"
    },
    {
     "name": "stdout",
     "output_type": "stream",
     "text": [
      "Isoniazid = Best validation AUC score: 0.96±0.02 on step 53\n"
     ]
    },
    {
     "data": {
      "text/html": [
       "<div>\n",
       "<style scoped>\n",
       "    .dataframe tbody tr th:only-of-type {\n",
       "        vertical-align: middle;\n",
       "    }\n",
       "\n",
       "    .dataframe tbody tr th {\n",
       "        vertical-align: top;\n",
       "    }\n",
       "\n",
       "    .dataframe thead th {\n",
       "        text-align: right;\n",
       "    }\n",
       "</style>\n",
       "<table border=\"1\" class=\"dataframe\">\n",
       "  <thead>\n",
       "    <tr style=\"text-align: right;\">\n",
       "      <th></th>\n",
       "      <th>AATGGCACGCCCGGCAACCCGGCTCCGCTAC</th>\n",
       "      <th>CAATGGCACGCCCGGCAACCCGGCTCCGCTA</th>\n",
       "      <th>AGCGGAGCCGGGTTGCCGGGCGTGCCATTGG</th>\n",
       "      <th>GCCAATGGCACGCCCGGCAACCCGGCTCCGC</th>\n",
       "      <th>CGCCAATGGCACGCCCGGCAACCCGGCTCCG</th>\n",
       "      <th>GGAGCCGGGTTGCCGGGCGTGCCATTGGCGA</th>\n",
       "      <th>ATCGCCAATGGCACGCCCGGCAACCCGGCTC</th>\n",
       "      <th>AGCCGGGTTGCCGGGCGTGCCATTGGCGATA</th>\n",
       "      <th>CTATCGCCAATGGCACGCCCGGCAACCCGGC</th>\n",
       "      <th>CCGGGTTGCCGGGCGTGCCATTGGCGATAGC</th>\n",
       "      <th>...</th>\n",
       "      <th>CGATCACCACCGGCATCGAGGTCGTATGGAC</th>\n",
       "      <th>CGTCCATACGACCTCGATGCCGGTGGTGATC</th>\n",
       "      <th>ATCACCACCGGCATCGAGGTCGTATGGACGA</th>\n",
       "      <th>TCACCACCGGCATCGAGGTCGTATGGACGAA</th>\n",
       "      <th>CACCACCGGCATCGAGGTCGTATGGACGAAC</th>\n",
       "      <th>ACCACCGGCATCGAGGTCGTATGGACGAACA</th>\n",
       "      <th>CCACCGGCATCGAGGTCGTATGGACGAACAC</th>\n",
       "      <th>CACCGGCATCGAGGTCGTATGGACGAACACC</th>\n",
       "      <th>ACCGGCATCGAGGTCGTATGGACGAACACCC</th>\n",
       "      <th>CCGGCATCGAGGTCGTATGGACGAACACCCC</th>\n",
       "    </tr>\n",
       "  </thead>\n",
       "  <tbody>\n",
       "  </tbody>\n",
       "</table>\n",
       "<p>0 rows × 152 columns</p>\n",
       "</div>"
      ],
      "text/plain": [
       "Empty DataFrame\n",
       "Columns: [AATGGCACGCCCGGCAACCCGGCTCCGCTAC, CAATGGCACGCCCGGCAACCCGGCTCCGCTA, AGCGGAGCCGGGTTGCCGGGCGTGCCATTGG, GCCAATGGCACGCCCGGCAACCCGGCTCCGC, CGCCAATGGCACGCCCGGCAACCCGGCTCCG, GGAGCCGGGTTGCCGGGCGTGCCATTGGCGA, ATCGCCAATGGCACGCCCGGCAACCCGGCTC, AGCCGGGTTGCCGGGCGTGCCATTGGCGATA, CTATCGCCAATGGCACGCCCGGCAACCCGGC, CCGGGTTGCCGGGCGTGCCATTGGCGATAGC, CGCTATCGCCAATGGCACGCCCGGCAACCCG, GCGCTATCGCCAATGGCACGCCCGGCAACCC, CGCGCTATCGCCAATGGCACGCCCGGCAACC, CCGCGCTATCGCCAATGGCACGCCCGGCAAC, GCCGCGCTATCGCCAATGGCACGCCCGGCAA, GGCCGCGCTATCGCCAATGGCACGCCCGGCA, CGGCCGCGCTATCGCCAATGGCACGCCCGGC, CCGGCCGCGCTATCGCCAATGGCACGCCCGG, CGGGCGTGCCATTGGCGATAGCGCGGCCGGA, GGGCGTGCCATTGGCGATAGCGCGGCCGGAC, GGCGTGCCATTGGCGATAGCGCGGCCGGACC, AGGTCCGGCCGCGCTATCGCCAATGGCACGC, CGTGCCATTGGCGATAGCGCGGCCGGACCTC, GGAGGTCCGGCCGCGCTATCGCCAATGGCAC, TGCCATTGGCGATAGCGCGGCCGGACCTCCA, CTGGAGGTCCGGCCGCGCTATCGCCAATGGC, CCATTGGCGATAGCGCGGCCGGACCTCCAGG, ACCTGGAGGTCCGGCCGCGCTATCGCCAATG, ATTGGCGATAGCGCGGCCGGACCTCCAGGTA, CTACCTGGAGGTCCGGCCGCGCTATCGCCAA, ACTACCTGGAGGTCCGGCCGCGCTATCGCCA, ACAACCTATCGTCTCGCCGCGGCCGGGCCGA, CAACCTATCGTCTCGCCGCGGCCGGGCCGAA, AACCTATCGTCTCGCCGCGGCCGGGCCGAAA, ACCTATCGTCTCGCCGCGGCCGGGCCGAAAT, CATGCCCAGGATGTAGCCGTCGTCCGACGAA, CCATGCCCAGGATGTAGCCGTCGTCCGACGA, CGTCGGACGACGGCTACATCCTGGGCATGGC, GGCCATGCCCAGGATGTAGCCGTCGTCCGAC, GGGCCATGCCCAGGATGTAGCCGTCGTCCGA, CGGACGACGGCTACATCCTGGGCATGGCCCG, GGACGACGGCTACATCCTGGGCATGGCCCGA, CTCGGGCCATGCCCAGGATGTAGCCGTCGTC, ACGACGGCTACATCCTGGGCATGGCCCGAGT, CGACGGCTACATCCTGGGCATGGCCCGAGTC, CGACTCGGGCCATGCCCAGGATGTAGCCGTC, ACGGCTACATCCTGGGCATGGCCCGAGTCGC, CGGCTACATCCTGGGCATGGCCCGAGTCGCC, CGGCGACTCGGGCCATGCCCAGGATGTAGCC, GCTACATCCTGGGCATGGCCCGAGTCGCCGA, CTACATCCTGGGCATGGCCCGAGTCGCCGAC, GGTCGGCGACTCGGGCCATGCCCAGGATGTA, ACATCCTGGGCATGGCCCGAGTCGCCGACCA, CATCCTGGGCATGGCCCGAGTCGCCGACCAC, ATCCTGGGCATGGCCCGAGTCGCCGACCACG, GCGTGGTCGGCGACTCGGGCCATGCCCAGGA, CCTGGGCATGGCCCGAGTCGCCGACCACGCC, CGGCGTGGTCGGCGACTCGGGCCATGCCCAG, CCGGCGTGGTCGGCGACTCGGGCCATGCCCA, GCCGGCGTGGTCGGCGACTCGGGCCATGCCC, AGCCGGCGTGGTCGGCGACTCGGGCCATGCC, GCATGGCCCGAGTCGCCGACCACGCCGGCTA, CATGGCCCGAGTCGCCGACCACGCCGGCTAC, ATGGCCCGAGTCGCCGACCACGCCGGCTACA, GACCAGAACAACCCGCTGTCGGGGTTGACCC, AGCGCCGACAGTCGGCGCTTGTGGGTCAACC, CAGCGCCGACAGTCGGCGCTTGTGGGTCAAC, CCAGCGCCGACAGTCGGCGCTTGTGGGTCAA, CCCAGCGCCGACAGTCGGCGCTTGTGGGTCA, CCCCAGCGCCGACAGTCGGCGCTTGTGGGTC, ACCCACAAGCGCCGACTGTCGGCGCTGGGGC, CCCACAAGCGCCGACTGTCGGCGCTGGGGCC, CCACAAGCGCCGACTGTCGGCGCTGGGGCCC, CACAAGCGCCGACTGTCGGCGCTGGGGCCCG, ACAAGCGCCGACTGTCGGCGCTGGGGCCCGG, CAAGCGCCGACTGTCGGCGCTGGGGCCCGGC, AAGCGCCGACTGTCGGCGCTGGGGCCCGGCG, AGCGCCGACTGTCGGCGCTGGGGCCCGGCGG, ACCGCCGGGCCCCAGCGCCGACAGTCGGCGC, CGCCGACTGTCGGCGCTGGGGCCCGGCGGTC, AGACCGCCGGGCCCCAGCGCCGACAGTCGGC, CAGACCGCCGGGCCCCAGCGCCGACAGTCGG, ACAGACCGCCGGGCCCCAGCGCCGACAGTCG, GACAGACCGCCGGGCCCCAGCGCCGACAGTC, ACTGTCGGCGCTGGGGCCCGGCGGTCTGTCA, CTGTCGGCGCTGGGGCCCGGCGGTCTGTCAC, CGTGACAGACCGCCGGGCCCCAGCGCCGACA, ACGTGACAGACCGCCGGGCCCCAGCGCCGAC, CACGTGACAGACCGCCGGGCCCCAGCGCCGA, CGGCGCTGGGGCCCGGCGGTCTGTCACGTGA, CTGGTGATCGCGTCCTTACCGGTTCCGGTGC, CACCGGAACCGGTAAGGACGCGATCACCAGC, ACCGGAACCGGTAAGGACGCGATCACCAGCG, CCGCTGGTGATCGCGTCCTTACCGGTTCCGG, CGGAACCGGTAAGGACGCGATCACCAGCGGC, GGAACCGGTAAGGACGCGATCACCAGCGGCA, ATGCCGCTGGTGATCGCGTCCTTACCGGTTC, AACCGGTAAGGACGCGATCACCAGCGGCATC, ACCGGTAAGGACGCGATCACCAGCGGCATCG, CCGGTAAGGACGCGATCACCAGCGGCATCGA, ...]\n",
       "Index: []\n",
       "\n",
       "[0 rows x 152 columns]"
      ]
     },
     "execution_count": 13,
     "metadata": {},
     "output_type": "execute_result"
    }
   ],
   "source": [
    "inh = 'isoniazid'\n",
    "\n",
    "inh_data = get_data(inh, 1e-18)\n",
    "\n",
    "inh_X_train, inh_X_test, inh_y_train, inh_y_test = split_train_test(inh_data)\n",
    "\n",
    "cv_train(inh_X_train, inh_y_train, inh)\n",
    "inh_clf = train(inh_X_train, inh_y_train)\n",
    "\n",
    "# Simpan model\n",
    "inh_clf.save_model(path.join(MODEL_DIR, f'{inh}_clf.cbm'), format='cbm')\n",
    "\n",
    "# Simpan matriks header untuk app\n",
    "inh_head = inh_data.iloc[0:0, 2:]\n",
    "inh_head.to_csv(path.join(MODEL_DIR, f'{inh}_matrix_head.tsv'), sep='\\t', index=False)\n",
    "inh_head"
   ]
  },
  {
   "cell_type": "markdown",
   "id": "f3ac3dae-b379-4033-b5e2-046796402db6",
   "metadata": {},
   "source": [
    "### 4.3 Rifampin"
   ]
  },
  {
   "cell_type": "code",
   "execution_count": 14,
   "id": "271803c7-e548-4936-8ec7-8ae7805148a3",
   "metadata": {
    "tags": []
   },
   "outputs": [
    {
     "data": {
      "application/vnd.jupyter.widget-view+json": {
       "model_id": "67c97f66950f4df493b8b9f4c37322c5",
       "version_major": 2,
       "version_minor": 0
      },
      "text/plain": [
       "MetricVisualizer(layout=Layout(align_self='stretch', height='500px'))"
      ]
     },
     "metadata": {},
     "output_type": "display_data"
    },
    {
     "name": "stdout",
     "output_type": "stream",
     "text": [
      "Rifampin = Best validation AUC score: 0.98±0.01 on step 19\n"
     ]
    },
    {
     "data": {
      "text/html": [
       "<div>\n",
       "<style scoped>\n",
       "    .dataframe tbody tr th:only-of-type {\n",
       "        vertical-align: middle;\n",
       "    }\n",
       "\n",
       "    .dataframe tbody tr th {\n",
       "        vertical-align: top;\n",
       "    }\n",
       "\n",
       "    .dataframe thead th {\n",
       "        text-align: right;\n",
       "    }\n",
       "</style>\n",
       "<table border=\"1\" class=\"dataframe\">\n",
       "  <thead>\n",
       "    <tr style=\"text-align: right;\">\n",
       "      <th></th>\n",
       "      <th>CAGCGGGTTGTTCTGGTCCATGAATTGGCTC</th>\n",
       "      <th>ACAGCGGGTTGTTCTGGTCCATGAATTGGCT</th>\n",
       "      <th>GACAGCGGGTTGTTCTGGTCCATGAATTGGC</th>\n",
       "      <th>CCAATTCATGGACCAGAACAACCCGCTGTCG</th>\n",
       "      <th>CAATTCATGGACCAGAACAACCCGCTGTCGG</th>\n",
       "      <th>AATTCATGGACCAGAACAACCCGCTGTCGGG</th>\n",
       "      <th>ATTCATGGACCAGAACAACCCGCTGTCGGGG</th>\n",
       "      <th>ACCCCGACAGCGGGTTGTTCTGGTCCATGAA</th>\n",
       "      <th>AACCCCGACAGCGGGTTGTTCTGGTCCATGA</th>\n",
       "      <th>CAACCCCGACAGCGGGTTGTTCTGGTCCATG</th>\n",
       "      <th>...</th>\n",
       "      <th>CCTGGGCATGGCCCGAGTCGCCGACCACGCC</th>\n",
       "      <th>CGGCGTGGTCGGCGACTCGGGCCATGCCCAG</th>\n",
       "      <th>CCGGCGTGGTCGGCGACTCGGGCCATGCCCA</th>\n",
       "      <th>GCCGGCGTGGTCGGCGACTCGGGCCATGCCC</th>\n",
       "      <th>AGCCGGCGTGGTCGGCGACTCGGGCCATGCC</th>\n",
       "      <th>GCATGGCCCGAGTCGCCGACCACGCCGGCTA</th>\n",
       "      <th>CATGGCCCGAGTCGCCGACCACGCCGGCTAC</th>\n",
       "      <th>ATGGCCCGAGTCGCCGACCACGCCGGCTACA</th>\n",
       "      <th>ATGTAGCCGGCGTGGTCGGCGACTCGGGCCA</th>\n",
       "      <th>CATGTAGCCGGCGTGGTCGGCGACTCGGGCC</th>\n",
       "    </tr>\n",
       "  </thead>\n",
       "  <tbody>\n",
       "  </tbody>\n",
       "</table>\n",
       "<p>0 rows × 200 columns</p>\n",
       "</div>"
      ],
      "text/plain": [
       "Empty DataFrame\n",
       "Columns: [CAGCGGGTTGTTCTGGTCCATGAATTGGCTC, ACAGCGGGTTGTTCTGGTCCATGAATTGGCT, GACAGCGGGTTGTTCTGGTCCATGAATTGGC, CCAATTCATGGACCAGAACAACCCGCTGTCG, CAATTCATGGACCAGAACAACCCGCTGTCGG, AATTCATGGACCAGAACAACCCGCTGTCGGG, ATTCATGGACCAGAACAACCCGCTGTCGGGG, ACCCCGACAGCGGGTTGTTCTGGTCCATGAA, AACCCCGACAGCGGGTTGTTCTGGTCCATGA, CAACCCCGACAGCGGGTTGTTCTGGTCCATG, ATGGACCAGAACAACCCGCTGTCGGGGTTGA, GTCAACCCCGACAGCGGGTTGTTCTGGTCCA, GGACCAGAACAACCCGCTGTCGGGGTTGACC, GACCAGAACAACCCGCTGTCGGGGTTGACCC, ACCAGAACAACCCGCTGTCGGGGTTGACCCA, GACAGTCGGCGCTTGTGGGTCAACCCCGACA, CGACAGTCGGCGCTTGTGGGTCAACCCCGAC, CCGACAGTCGGCGCTTGTGGGTCAACCCCGA, CGGGGTTGACCCACAAGCGCCGACTGTCGGC, CGCCGACAGTCGGCGCTTGTGGGTCAACCCC, GCGCCGACAGTCGGCGCTTGTGGGTCAACCC, AGCGCCGACAGTCGGCGCTTGTGGGTCAACC, CAGCGCCGACAGTCGGCGCTTGTGGGTCAAC, CCAGCGCCGACAGTCGGCGCTTGTGGGTCAA, CCCAGCGCCGACAGTCGGCGCTTGTGGGTCA, CCCCAGCGCCGACAGTCGGCGCTTGTGGGTC, ACCCACAAGCGCCGACTGTCGGCGCTGGGGC, CCCACAAGCGCCGACTGTCGGCGCTGGGGCC, CCACAAGCGCCGACTGTCGGCGCTGGGGCCC, CACAAGCGCCGACTGTCGGCGCTGGGGCCCG, ACAAGCGCCGACTGTCGGCGCTGGGGCCCGG, CAAGCGCCGACTGTCGGCGCTGGGGCCCGGC, AAGCGCCGACTGTCGGCGCTGGGGCCCGGCG, AGCGCCGACTGTCGGCGCTGGGGCCCGGCGG, ACCGCCGGGCCCCAGCGCCGACAGTCGGCGC, CGCCGACTGTCGGCGCTGGGGCCCGGCGGTC, AGACCGCCGGGCCCCAGCGCCGACAGTCGGC, CAGACCGCCGGGCCCCAGCGCCGACAGTCGG, ACAGACCGCCGGGCCCCAGCGCCGACAGTCG, GACAGACCGCCGGGCCCCAGCGCCGACAGTC, ACTGTCGGCGCTGGGGCCCGGCGGTCTGTCA, CTGTCGGCGCTGGGGCCCGGCGGTCTGTCAC, CGTGACAGACCGCCGGGCCCCAGCGCCGACA, ACGTGACAGACCGCCGGGCCCCAGCGCCGAC, CACGTGACAGACCGCCGGGCCCCAGCGCCGA, CGGCGCTGGGGCCCGGCGGTCTGTCACGTGA, AACAGTCGGCGCTTGTGGGTCAACCCCGACA, CAACAGTCGGCGCTTGTGGGTCAACCCCGAC, CCAACAGTCGGCGCTTGTGGGTCAACCCCGA, CGGGGTTGACCCACAAGCGCCGACTGTTGGC, CGCCAACAGTCGGCGCTTGTGGGTCAACCCC, GCGCCAACAGTCGGCGCTTGTGGGTCAACCC, AGCGCCAACAGTCGGCGCTTGTGGGTCAACC, CAGCGCCAACAGTCGGCGCTTGTGGGTCAAC, CCAGCGCCAACAGTCGGCGCTTGTGGGTCAA, CCCAGCGCCAACAGTCGGCGCTTGTGGGTCA, CCCCAGCGCCAACAGTCGGCGCTTGTGGGTC, ACCCACAAGCGCCGACTGTTGGCGCTGGGGC, CCCACAAGCGCCGACTGTTGGCGCTGGGGCC, CCACAAGCGCCGACTGTTGGCGCTGGGGCCC, CACAAGCGCCGACTGTTGGCGCTGGGGCCCG, ACAAGCGCCGACTGTTGGCGCTGGGGCCCGG, CAAGCGCCGACTGTTGGCGCTGGGGCCCGGC, AAGCGCCGACTGTTGGCGCTGGGGCCCGGCG, AGCGCCGACTGTTGGCGCTGGGGCCCGGCGG, ACCGCCGGGCCCCAGCGCCAACAGTCGGCGC, CGCCGACTGTTGGCGCTGGGGCCCGGCGGTC, AGACCGCCGGGCCCCAGCGCCAACAGTCGGC, CAGACCGCCGGGCCCCAGCGCCAACAGTCGG, ACAGACCGCCGGGCCCCAGCGCCAACAGTCG, GACAGACCGCCGGGCCCCAGCGCCAACAGTC, ACTGTTGGCGCTGGGGCCCGGCGGTCTGTCA, CTGTTGGCGCTGGGGCCCGGCGGTCTGTCAC, CGTGACAGACCGCCGGGCCCCAGCGCCAACA, ACGTGACAGACCGCCGGGCCCCAGCGCCAAC, CACGTGACAGACCGCCGGGCCCCAGCGCCAA, TCACGTGACAGACCGCCGGGCCCCAGCGCCA, GGATCCGCACACCGTCGATGCCGGACAGGCC, AGGATCCGCACACCGTCGATGCCGGACAGGC, AAGGATCCGCACACCGTCGATGCCGGACAGG, CAAGGATCCGCACACCGTCGATGCCGGACAG, CCAAGGATCCGCACACCGTCGATGCCGGACA, GCCAAGGATCCGCACACCGTCGATGCCGGAC, GGCCAAGGATCCGCACACCGTCGATGCCGGA, CCGGCATCGACGGTGTGCGGATCCTTGGCCC, CGGCATCGACGGTGTGCGGATCCTTGGCCCG, GGCATCGACGGTGTGCGGATCCTTGGCCCGA, GCATCGACGGTGTGCGGATCCTTGGCCCGAC, CATCGACGGTGTGCGGATCCTTGGCCCGACG, ACGTCGGGCCAAGGATCCGCACACCGTCGAT, GACGTCGGGCCAAGGATCCGCACACCGTCGA, CGACGGTGTGCGGATCCTTGGCCCGACGTCG, GACGGTGTGCGGATCCTTGGCCCGACGTCGA, ACGGTGTGCGGATCCTTGGCCCGACGTCGAT, CATCGACGTCGGGCCAAGGATCCGCACACCG, GCATCGACGTCGGGCCAAGGATCCGCACACC, CGCATCGACGTCGGGCCAAGGATCCGCACAC, CCGCATCGACGTCGGGCCAAGGATCCGCACA, CCCGCATCGACGTCGGGCCAAGGATCCGCAC, TCCCGCATCGACGTCGGGCCAAGGATCCGCA, ...]\n",
       "Index: []\n",
       "\n",
       "[0 rows x 200 columns]"
      ]
     },
     "execution_count": 14,
     "metadata": {},
     "output_type": "execute_result"
    }
   ],
   "source": [
    "rif = 'rifampin'\n",
    "\n",
    "rif_data = get_data(rif, 1e-18)\n",
    "\n",
    "rif_X_train, rif_X_test, rif_y_train, rif_y_test = split_train_test(rif_data)\n",
    "\n",
    "cv_train(rif_X_train, rif_y_train, rif)\n",
    "rif_clf = train(rif_X_train, rif_y_train)\n",
    "\n",
    "# Simpan model\n",
    "rif_clf.save_model(path.join(MODEL_DIR, f'{rif}_clf.cbm'), format='cbm')\n",
    "\n",
    "# Simpan matriks header untuk app\n",
    "rif_head = rif_data.iloc[0:0, 2:]\n",
    "rif_head.to_csv(path.join(MODEL_DIR, f'{rif}_matrix_head.tsv'), sep='\\t', index=False)\n",
    "rif_head"
   ]
  },
  {
   "cell_type": "markdown",
   "id": "72b68afe-c36f-4b42-8bbc-7cdee49672b6",
   "metadata": {},
   "source": [
    "### 4.4 Evaluasi total"
   ]
  },
  {
   "cell_type": "code",
   "execution_count": 15,
   "id": "e60d50bc-8d2f-47e1-b834-1353a5fefd3a",
   "metadata": {
    "tags": []
   },
   "outputs": [
    {
     "name": "stdout",
     "output_type": "stream",
     "text": [
      "Ethambutol: Skor AUC = 0.946\n",
      "Isoniazid: Skor AUC = 0.942\n",
      "Rifampin: Skor AUC = 0.942\n"
     ]
    },
    {
     "data": {
      "image/png": "[encoded data removed]",
      "text/plain": [
       "<Figure size 640x480 with 1 Axes>"
      ]
     },
     "metadata": {},
     "output_type": "display_data"
    }
   ],
   "source": [
    "def plot_roc(clf, X_test, y_test, antibiotic, color):\n",
    "    y_pred = clf.predict_proba(X_test)[:, 1]\n",
    "    fpr, tpr, _ = roc_curve(y_test, y_pred)\n",
    "    \n",
    "    plt.plot(\n",
    "        fpr, tpr, \n",
    "        color=color, \n",
    "        linestyle='solid', \n",
    "        lw=1.1,\n",
    "        alpha=0.8,\n",
    "        label=f'{antibiotic.title()} (AUC = {test_auc(clf, X_test, y_test, antibiotic):.2f})'\n",
    "    )\n",
    "\n",
    "\n",
    "plot_roc(emb_clf, emb_X_test, emb_y_test, emb, 'tab:red')\n",
    "plot_roc(inh_clf, inh_X_test, inh_y_test, inh, 'tab:orange')\n",
    "plot_roc(rif_clf, rif_X_test, rif_y_test, rif, 'tab:green')\n",
    "\n",
    "plt.plot(\n",
    "    [0, 1], [0, 1], \n",
    "    color='black', \n",
    "    lw=0.8, \n",
    "    linestyle='dashed', \n",
    "    alpha=0.6, \n",
    "    label='Random (AUC = 0.50)'\n",
    ")\n",
    "\n",
    "plt.xlim([-0.02, 1.02])\n",
    "plt.ylim([-0.02, 1.02])\n",
    "plt.xlabel('False Positive Rate')\n",
    "plt.ylabel('True Positive Rate')\n",
    "\n",
    "plt.title('Kurva ROC Prediksi Resistensi Antibiotik', y=1.01, size='large')\n",
    "plt.legend(loc='lower right', prop={'size': 7})\n",
    "\n",
    "plt.savefig(path.join(FIG_DIR, 'roc.png'), format='png', dpi=600, bbox_inches='tight')\n",
    "plt.show()"
   ]
  }
 ],
 "metadata": {
  "kernelspec": {
   "display_name": "Python 3 (ipykernel)",
   "language": "python",
   "name": "python3"
  },
  "language_info": {
   "codemirror_mode": {
    "name": "ipython",
    "version": 3
   },
   "file_extension": ".py",
   "mimetype": "text/x-python",
   "name": "python",
   "nbconvert_exporter": "python",
   "pygments_lexer": "ipython3",
   "version": "3.10.8"
  }
 },
 "nbformat": 4,
 "nbformat_minor": 5
}
