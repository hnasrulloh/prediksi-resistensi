{
 "cells": [
  {
   "cell_type": "markdown",
   "id": "b3ea31b0-38a0-4210-a2c4-d36cf16e3114",
   "metadata": {},
   "source": [
    "# GWAS Preparation"
   ]
  },
  {
   "cell_type": "code",
   "execution_count": 1,
   "id": "f48c61d5-4b8c-4230-bbfc-9db5e1b993c4",
   "metadata": {
    "tags": []
   },
   "outputs": [
    {
     "data": {
      "text/plain": [
       "'/home/hnasrulloh/Works/pangenomes/notebooks'"
      ]
     },
     "execution_count": 1,
     "metadata": {},
     "output_type": "execute_result"
    }
   ],
   "source": [
    "pwd()"
   ]
  },
  {
   "cell_type": "code",
   "execution_count": 2,
   "id": "654b3cec-5773-4563-b7dc-57b4d9467d40",
   "metadata": {
    "tags": []
   },
   "outputs": [],
   "source": [
    "from os import path\n",
    "import random\n",
    "\n",
    "import pandas as pd\n",
    "\n",
    "random.seed(1)"
   ]
  },
  {
   "cell_type": "code",
   "execution_count": 3,
   "id": "21db6222-8770-4835-b80b-69525ebd08e1",
   "metadata": {
    "tags": []
   },
   "outputs": [],
   "source": [
    "DATA_DIR = path.join(path.pardir, 'data')\n",
    "\n",
    "SAMPLES_DIR = path.join(DATA_DIR, 'samples')\n",
    "GWAS_DIR = path.join(DATA_DIR, 'gwas')"
   ]
  },
  {
   "cell_type": "markdown",
   "id": "16844e0d-3bd0-4e09-b309-be773f70e944",
   "metadata": {},
   "source": [
    "## Generating _pheno_ tsv files"
   ]
  },
  {
   "cell_type": "code",
   "execution_count": 4,
   "id": "8924f9eb-ee09-4486-a00e-68a0ae7546f9",
   "metadata": {},
   "outputs": [],
   "source": [
    "AMR_EXCEL = path.join(DATA_DIR, 'amr_ready.xlsx')\n",
    "df = pd.read_excel(AMR_EXCEL, dtype=str)\n",
    "\n",
    "df = df.loc[:, ['genome_id', 'antibiotic', 'phenotype']]\n",
    "\n",
    "pheno = { 'R': 1, 'S': 0 }\n",
    "df['phenotype'] = df['phenotype'].map(pheno)\n",
    "\n",
    "# Match the samples name within gene_presence_absence.Rtab\n",
    "samples = df.genome_id.map(lambda name: name + '.PATRIC')\n",
    "df.insert(0, 'samples', samples)\n",
    "df = df.drop(['genome_id'], axis=1)\n",
    "\n",
    "for antibiotic in ['ethambutol', 'rifampin', 'isoniazid']:\n",
    "    df_ab = df[df.antibiotic == antibiotic]\n",
    "    df_ab = df_ab.drop(['antibiotic'], axis=1)\n",
    "    df_ab.columns = ['samples', antibiotic]\n",
    "\n",
    "    ANTIBIOTIC_TSV = path.join(DATA_DIR, f'pheno_{antibiotic}.tsv')\n",
    "    df_ab.to_csv(ANTIBIOTIC_TSV, index=False, sep='\\t')"
   ]
  },
  {
   "cell_type": "markdown",
   "id": "1c593eb3-3d4f-41fe-ab03-42393b8e0e00",
   "metadata": {},
   "source": [
    "## KITSUNE preparation"
   ]
  },
  {
   "cell_type": "code",
   "execution_count": 5,
   "id": "dcd203ef-fb40-4dba-8a5e-1bd490b97c1b",
   "metadata": {
    "tags": []
   },
   "outputs": [],
   "source": [
    "GENOME_IDS = path.join(SAMPLES_DIR, '_id_ready.txt') \n",
    "with open(GENOME_IDS, 'r') as f:\n",
    "    ids = f.readlines()\n",
    "    ids = [i.strip() for i in ids]\n",
    "\n",
    "ids = [f'{i}.fna' for i in ids]\n",
    "\n",
    "KITSUNE_LIST = path.join(SAMPLES_DIR, '_kitsune.txt')\n",
    "with open(KITSUNE_LIST, 'w') as f:\n",
    "    for i in ids:\n",
    "        f.write(f'{i}\\n')\n",
    "        \n",
    "KITSUNE_NAIVE = path.join(SAMPLES_DIR, '_kitsune_naive.txt')\n",
    "with open(KITSUNE_NAIVE, 'w') as f:\n",
    "    n = round(len(ids) * 1/100)\n",
    "    naive_ids = random.sample(ids, n)\n",
    "    for i in naive_ids:\n",
    "        f.write(f'{i}\\n')"
   ]
  },
  {
   "cell_type": "code",
   "execution_count": 6,
   "id": "963f974b-3a74-4c6e-a514-9eb71275eb38",
   "metadata": {
    "tags": []
   },
   "outputs": [
    {
     "name": "stdout",
     "output_type": "stream",
     "text": [
      "Size 669\n",
      "Size naive 7\n"
     ]
    },
    {
     "data": {
      "text/plain": [
       "['83332.12.fna',\n",
       " '1438833.3.fna',\n",
       " '1438835.3.fna',\n",
       " '1438837.3.fna',\n",
       " '1438838.3.fna',\n",
       " '1438842.3.fna',\n",
       " '1438844.3.fna',\n",
       " '1438845.3.fna',\n",
       " '1438846.3.fna',\n",
       " '1438848.3.fna']"
      ]
     },
     "execution_count": 6,
     "metadata": {},
     "output_type": "execute_result"
    }
   ],
   "source": [
    "print(f'Size {len(ids)}')\n",
    "print(f'Size naive {n}')\n",
    "ids[:10]"
   ]
  },
  {
   "cell_type": "markdown",
   "id": "de7cbb8b-a099-47b7-915a-bdd7a817e524",
   "metadata": {},
   "source": [
    "## fsm-lite (_k-mers_ counting) preparation"
   ]
  },
  {
   "cell_type": "code",
   "execution_count": 7,
   "id": "076a05b1-771e-4188-89d2-c9834288403e",
   "metadata": {},
   "outputs": [],
   "source": [
    "PANAROO_ETHAMBUTOL = path.join(SAMPLES_DIR, '_panaroo_ethambutol_ready.txt') \n",
    "PANAROO_RIFAMPIN = path.join(SAMPLES_DIR, '_panaroo_rifampin_ready.txt') \n",
    "PANAROO_ISONIAZID = path.join(SAMPLES_DIR, '_panaroo_isoniazid_ready.txt') \n",
    "\n",
    "panaroo = {\n",
    "    'ethambutol': PANAROO_ETHAMBUTOL,\n",
    "    'rifampin': PANAROO_RIFAMPIN,\n",
    "    'isoniazid': PANAROO_ISONIAZID,\n",
    "}\n",
    "\n",
    "for antibiotic in panaroo:\n",
    "    with open(panaroo[antibiotic], 'r') as f:\n",
    "        inputs = f.readlines()\n",
    "        genomes = [i.split()[1] for i in inputs]\n",
    "        # genomes.remove('83332.12.fna') # remove the H3Rv reference genome\n",
    "\n",
    "    FSM_LIST = path.join(SAMPLES_DIR, f'_fsm_{antibiotic}.txt')\n",
    "    with open(FSM_LIST, 'w') as f:\n",
    "        for i in genomes:\n",
    "            f.write(f'{i}\\n')"
   ]
  },
  {
   "cell_type": "code",
   "execution_count": null,
   "id": "c873953a-551b-4fc3-93ca-9c97e014133a",
   "metadata": {},
   "outputs": [],
   "source": []
  }
 ],
 "metadata": {
  "kernelspec": {
   "display_name": "Python 3 (ipykernel)",
   "language": "python",
   "name": "python3"
  },
  "language_info": {
   "codemirror_mode": {
    "name": "ipython",
    "version": 3
   },
   "file_extension": ".py",
   "mimetype": "text/x-python",
   "name": "python",
   "nbconvert_exporter": "python",
   "pygments_lexer": "ipython3",
   "version": "3.10.8"
  }
 },
 "nbformat": 4,
 "nbformat_minor": 5
}
