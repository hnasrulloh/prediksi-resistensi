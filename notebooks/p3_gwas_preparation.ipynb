{
 "cells": [
  {
   "cell_type": "markdown",
   "id": "b3ea31b0-38a0-4210-a2c4-d36cf16e3114",
   "metadata": {},
   "source": [
    "# GWAS Preparation"
   ]
  },
  {
   "cell_type": "code",
   "execution_count": 1,
   "id": "f48c61d5-4b8c-4230-bbfc-9db5e1b993c4",
   "metadata": {
    "tags": []
   },
   "outputs": [
    {
     "data": {
      "text/plain": [
       "'/home/hnasrulloh/Works/pangenomes/notebooks'"
      ]
     },
     "execution_count": 1,
     "metadata": {},
     "output_type": "execute_result"
    }
   ],
   "source": [
    "pwd()"
   ]
  },
  {
   "cell_type": "code",
   "execution_count": 2,
   "id": "654b3cec-5773-4563-b7dc-57b4d9467d40",
   "metadata": {
    "tags": []
   },
   "outputs": [],
   "source": [
    "from os import path\n",
    "from collections import defaultdict\n",
    "\n",
    "import pandas as pd"
   ]
  },
  {
   "cell_type": "code",
   "execution_count": 3,
   "id": "21db6222-8770-4835-b80b-69525ebd08e1",
   "metadata": {
    "tags": []
   },
   "outputs": [],
   "source": [
    "DATA_DIR = path.join(path.pardir, 'data')\n",
    "\n",
    "GWAS_DIR = path.join(DATA_DIR, 'gwas')"
   ]
  },
  {
   "cell_type": "markdown",
   "id": "16844e0d-3bd0-4e09-b309-be773f70e944",
   "metadata": {},
   "source": [
    "## Generating _pheno_ tsv files"
   ]
  },
  {
   "cell_type": "code",
   "execution_count": 4,
   "id": "8924f9eb-ee09-4486-a00e-68a0ae7546f9",
   "metadata": {},
   "outputs": [],
   "source": [
    "AMR_EXCEL = path.join(DATA_DIR, 'amr_ready.xlsx')\n",
    "df = pd.read_excel(AMR_EXCEL, dtype=str)\n",
    "\n",
    "df = df.loc[:, ['genome_id', 'antibiotic', 'phenotype']]\n",
    "\n",
    "pheno = { 'R': 1, 'S': 0 }\n",
    "df['phenotype'] = df['phenotype'].map(pheno)\n",
    "\n",
    "# Match the samples name within gene_presence_absence.Rtab\n",
    "samples = df.genome_id.map(lambda name: name + '.PATRIC')\n",
    "df.insert(0, 'samples', samples)\n",
    "df = df.drop(['genome_id'], axis=1)\n",
    "\n",
    "for antibiotic in ['ethambutol', 'rifampin', 'isoniazid']:\n",
    "    df_ab = df[df.antibiotic == antibiotic]\n",
    "    df_ab = df_ab.drop(['antibiotic'], axis=1)\n",
    "    df_ab.columns = ['samples', antibiotic]\n",
    "\n",
    "    ANTIBIOTIC_TSV = path.join(DATA_DIR, f'pheno_{antibiotic}.tsv')\n",
    "    df_ab.to_csv(ANTIBIOTIC_TSV, index=False, sep='\\t')"
   ]
  },
  {
   "cell_type": "code",
   "execution_count": null,
   "id": "ca0d27b6-a7e6-43f8-a58d-01ed9248b6d8",
   "metadata": {},
   "outputs": [],
   "source": []
  }
 ],
 "metadata": {
  "kernelspec": {
   "display_name": "Python 3 (ipykernel)",
   "language": "python",
   "name": "python3"
  },
  "language_info": {
   "codemirror_mode": {
    "name": "ipython",
    "version": 3
   },
   "file_extension": ".py",
   "mimetype": "text/x-python",
   "name": "python",
   "nbconvert_exporter": "python",
   "pygments_lexer": "ipython3",
   "version": "3.10.8"
  }
 },
 "nbformat": 4,
 "nbformat_minor": 5
}
